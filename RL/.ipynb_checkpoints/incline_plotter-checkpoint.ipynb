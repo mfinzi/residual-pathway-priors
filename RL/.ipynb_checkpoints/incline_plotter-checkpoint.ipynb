{
 "cells": [
  {
   "cell_type": "code",
   "execution_count": 1,
   "metadata": {},
   "outputs": [],
   "source": [
    "import coax\n",
    "import gym\n",
    "import haiku as hk\n",
    "import jax\n",
    "import jax.numpy as jnp\n",
    "import optax\n",
    "from coax.value_losses import mse\n",
    "from incline_cartpole import InclinedCartpole\n",
    "\n",
    "\n",
    "# the name of this script\n",
    "name = 'a2c'\n",
    "\n",
    "# the cart-pole MDP\n",
    "env = gym.make('CartPole-v0')\n",
    "# env = gym.make(\"rpp_gym:InclinedCartpole-v0\")"
   ]
  },
  {
   "cell_type": "code",
   "execution_count": 2,
   "metadata": {},
   "outputs": [],
   "source": [
    "env.alpha = 0.2"
   ]
  },
  {
   "cell_type": "code",
   "execution_count": 3,
   "metadata": {},
   "outputs": [],
   "source": [
    "env = coax.wrappers.TrainMonitor(env, name=name, tensorboard_dir=f\"./data/tensorboard/{name}\")"
   ]
  },
  {
   "cell_type": "code",
   "execution_count": 4,
   "metadata": {},
   "outputs": [],
   "source": [
    "# env.spec.max_episode_steps = 200\n",
    "# env.spec.reward_threshold = 195.0"
   ]
  },
  {
   "cell_type": "code",
   "execution_count": 5,
   "metadata": {},
   "outputs": [],
   "source": [
    "from emlp import T, Scalar\n",
    "from emlp.groups import SO, S, O, Trivial,Z\n",
    "from emlp_haiku import EMLPBlock, Sequential, Linear,EMLP, MLP\n",
    "from emlp.reps import Rep\n",
    "from emlp.nn import gated,gate_indices,uniform_rep\n",
    "from math import prod\n",
    "from representations import PseudoScalar\n",
    "from mixed_emlp_haiku import MixedEMLP\n",
    "\n",
    "## Trivial\n",
    "# group=Trivial(2)\n",
    "# rep_in = T(0)*prod(env.observation_space.shape)\n",
    "# rep_out = T(0)*env.action_space.n#prod(env.action_space.shape)\n",
    "\n",
    "## Reflection\n",
    "group=Z(2)\n",
    "rep_in = PseudoScalar()*prod(env.observation_space.shape)\n",
    "rep_out = T(1)#*env.action_space.n#prod(env.action_space.shape)\n",
    "\n",
    "# nn_pi = EMLP(rep_in,rep_out,group,ch=100,num_layers=2)\n",
    "# nn_v = EMLP(rep_in,T(0),group,ch=100,num_layers=2)\n",
    "\n",
    "# nn_pi = MixedEMLP(rep_in,rep_out(group),group,ch=100,num_layers=2)\n",
    "# nn_v = MixedEMLP(rep_in,T(0),group,ch=100,num_layers=2)\n",
    "\n",
    "\n",
    "# def func_pi(S, is_training):\n",
    "#     return {'logits': nn_pi(S)}\n",
    "\n",
    "\n",
    "# def func_v(S, is_training):\n",
    "#     return nn_v(S).reshape(-1)\n",
    "\n",
    "\n",
    "\n",
    "def func_pi(S, is_training):\n",
    "    logits = hk.Sequential((\n",
    "        hk.Linear(16), jax.nn.relu,\n",
    "        hk.Linear(16), jax.nn.relu,\n",
    "        hk.Linear(16), jax.nn.relu,\n",
    "        hk.Linear(env.action_space.n, w_init=jnp.zeros)\n",
    "    ))\n",
    "    return {'logits': logits(S)}\n",
    "\n",
    "\n",
    "def func_v(S, is_training):\n",
    "    value = hk.Sequential((\n",
    "        hk.Linear(16), jax.nn.relu,\n",
    "        hk.Linear(16), jax.nn.relu,\n",
    "        hk.Linear(16), jax.nn.relu,\n",
    "        hk.Linear(1, w_init=jnp.zeros), jnp.ravel\n",
    "    ))\n",
    "    return value(S)\n"
   ]
  },
  {
   "cell_type": "code",
   "execution_count": 6,
   "metadata": {
    "tags": []
   },
   "outputs": [],
   "source": [
    "# these optimizers collect batches of grads before applying updates\n",
    "optimizer_v = optax.chain(optax.apply_every(k=32), optax.adam(0.002))\n",
    "optimizer_pi = optax.chain(optax.apply_every(k=32), optax.adam(0.001))\n",
    "\n",
    "\n",
    "# value function and its derived policy\n",
    "v = coax.V(func_v, env)\n",
    "pi = coax.Policy(func_pi, env)"
   ]
  },
  {
   "cell_type": "code",
   "execution_count": 7,
   "metadata": {},
   "outputs": [],
   "source": [
    "store = v.params"
   ]
  },
  {
   "cell_type": "code",
   "execution_count": 8,
   "metadata": {
    "collapsed": true,
    "jupyter": {
     "outputs_hidden": true
    },
    "tags": []
   },
   "outputs": [
    {
     "name": "stderr",
     "output_type": "stream",
     "text": [
      "[a2c|TrainMonitor|INFO] ep: 1,\tT: 15,\tG: 14,\tavg_r: 1,\tavg_G: 14,\tt: 14,\tdt: 370.929ms,\tSimpleTD/loss: 0.5,\tVanillaPG/loss: 0.693\n"
     ]
    },
    {
     "name": "stdout",
     "output_type": "stream",
     "text": [
      "Epoch reward 14.0\n"
     ]
    },
    {
     "name": "stderr",
     "output_type": "stream",
     "text": [
      "[a2c|TrainMonitor|INFO] ep: 2,\tT: 27,\tG: 11,\tavg_r: 1,\tavg_G: 12.5,\tt: 11,\tdt: 23.628ms,\tSimpleTD/loss: 0.5,\tVanillaPG/loss: 0.693\n"
     ]
    },
    {
     "name": "stdout",
     "output_type": "stream",
     "text": [
      "Epoch reward 11.0\n"
     ]
    },
    {
     "name": "stderr",
     "output_type": "stream",
     "text": [
      "[a2c|TrainMonitor|INFO] ep: 3,\tT: 45,\tG: 17,\tavg_r: 1,\tavg_G: 14,\tt: 17,\tdt: 24.417ms,\tSimpleTD/loss: 0.499,\tVanillaPG/loss: 0.692\n"
     ]
    },
    {
     "name": "stdout",
     "output_type": "stream",
     "text": [
      "Epoch reward 17.0\n"
     ]
    },
    {
     "name": "stderr",
     "output_type": "stream",
     "text": [
      "[a2c|TrainMonitor|INFO] ep: 4,\tT: 57,\tG: 11,\tavg_r: 1,\tavg_G: 13.2,\tt: 11,\tdt: 24.562ms,\tSimpleTD/loss: 0.497,\tVanillaPG/loss: 0.691\n"
     ]
    },
    {
     "name": "stdout",
     "output_type": "stream",
     "text": [
      "Epoch reward 11.0\n"
     ]
    },
    {
     "name": "stderr",
     "output_type": "stream",
     "text": [
      "[a2c|TrainMonitor|INFO] ep: 5,\tT: 79,\tG: 21,\tavg_r: 1,\tavg_G: 14.8,\tt: 21,\tdt: 25.227ms,\tSimpleTD/loss: 0.496,\tVanillaPG/loss: 0.69\n"
     ]
    },
    {
     "name": "stdout",
     "output_type": "stream",
     "text": [
      "Epoch reward 21.0\n"
     ]
    },
    {
     "name": "stderr",
     "output_type": "stream",
     "text": [
      "[a2c|TrainMonitor|INFO] ep: 6,\tT: 115,\tG: 35,\tavg_r: 1,\tavg_G: 18.2,\tt: 35,\tdt: 26.697ms,\tSimpleTD/loss: 0.49,\tVanillaPG/loss: 0.683\n"
     ]
    },
    {
     "name": "stdout",
     "output_type": "stream",
     "text": [
      "Epoch reward 35.0\n"
     ]
    },
    {
     "name": "stderr",
     "output_type": "stream",
     "text": [
      "[a2c|TrainMonitor|INFO] ep: 7,\tT: 132,\tG: 16,\tavg_r: 1,\tavg_G: 17.9,\tt: 16,\tdt: 24.710ms,\tSimpleTD/loss: 0.484,\tVanillaPG/loss: 0.677\n"
     ]
    },
    {
     "name": "stdout",
     "output_type": "stream",
     "text": [
      "Epoch reward 16.0\n"
     ]
    },
    {
     "name": "stderr",
     "output_type": "stream",
     "text": [
      "[a2c|TrainMonitor|INFO] ep: 8,\tT: 152,\tG: 19,\tavg_r: 1,\tavg_G: 18,\tt: 19,\tdt: 24.366ms,\tSimpleTD/loss: 0.477,\tVanillaPG/loss: 0.661\n"
     ]
    },
    {
     "name": "stdout",
     "output_type": "stream",
     "text": [
      "Epoch reward 19.0\n"
     ]
    },
    {
     "name": "stderr",
     "output_type": "stream",
     "text": [
      "[a2c|TrainMonitor|INFO] ep: 9,\tT: 164,\tG: 11,\tavg_r: 1,\tavg_G: 17.2,\tt: 11,\tdt: 25.966ms,\tSimpleTD/loss: 0.467,\tVanillaPG/loss: 0.628\n"
     ]
    },
    {
     "name": "stdout",
     "output_type": "stream",
     "text": [
      "Epoch reward 11.0\n"
     ]
    },
    {
     "name": "stderr",
     "output_type": "stream",
     "text": [
      "[a2c|TrainMonitor|INFO] ep: 10,\tT: 179,\tG: 14,\tavg_r: 1,\tavg_G: 16.9,\tt: 14,\tdt: 25.138ms,\tSimpleTD/loss: 0.476,\tVanillaPG/loss: 0.623\n"
     ]
    },
    {
     "name": "stdout",
     "output_type": "stream",
     "text": [
      "Epoch reward 14.0\n"
     ]
    },
    {
     "name": "stderr",
     "output_type": "stream",
     "text": [
      "[a2c|TrainMonitor|INFO] ep: 11,\tT: 194,\tG: 14,\tavg_r: 1,\tavg_G: 16.6,\tt: 14,\tdt: 24.793ms,\tSimpleTD/loss: 0.463,\tVanillaPG/loss: 0.618\n"
     ]
    },
    {
     "name": "stdout",
     "output_type": "stream",
     "text": [
      "Epoch reward 14.0\n"
     ]
    },
    {
     "name": "stderr",
     "output_type": "stream",
     "text": [
      "[a2c|TrainMonitor|INFO] ep: 12,\tT: 214,\tG: 19,\tavg_r: 1,\tavg_G: 16.8,\tt: 19,\tdt: 24.715ms,\tSimpleTD/loss: 0.452,\tVanillaPG/loss: 0.653\n"
     ]
    },
    {
     "name": "stdout",
     "output_type": "stream",
     "text": [
      "Epoch reward 19.0\n"
     ]
    },
    {
     "name": "stderr",
     "output_type": "stream",
     "text": [
      "[a2c|TrainMonitor|INFO] ep: 13,\tT: 227,\tG: 12,\tavg_r: 1,\tavg_G: 16.4,\tt: 12,\tdt: 25.603ms,\tSimpleTD/loss: 0.475,\tVanillaPG/loss: 0.627\n"
     ]
    },
    {
     "name": "stdout",
     "output_type": "stream",
     "text": [
      "Epoch reward 12.0\n"
     ]
    },
    {
     "name": "stderr",
     "output_type": "stream",
     "text": [
      "[a2c|TrainMonitor|INFO] ep: 14,\tT: 286,\tG: 58,\tavg_r: 1,\tavg_G: 20.5,\tt: 58,\tdt: 25.999ms,\tSimpleTD/loss: 0.604,\tVanillaPG/loss: 0.544\n"
     ]
    },
    {
     "name": "stdout",
     "output_type": "stream",
     "text": [
      "Epoch reward 58.0\n"
     ]
    },
    {
     "name": "stderr",
     "output_type": "stream",
     "text": [
      "[a2c|TrainMonitor|INFO] ep: 15,\tT: 359,\tG: 72,\tavg_r: 1,\tavg_G: 25.7,\tt: 72,\tdt: 26.127ms,\tSimpleTD/loss: 2.01,\tVanillaPG/loss: 0.357\n"
     ]
    },
    {
     "name": "stdout",
     "output_type": "stream",
     "text": [
      "Epoch reward 72.0\n"
     ]
    },
    {
     "name": "stderr",
     "output_type": "stream",
     "text": [
      "[a2c|TrainMonitor|INFO] ep: 16,\tT: 396,\tG: 36,\tavg_r: 1,\tavg_G: 26.7,\tt: 36,\tdt: 25.144ms,\tSimpleTD/loss: 0.72,\tVanillaPG/loss: 0.294\n"
     ]
    },
    {
     "name": "stdout",
     "output_type": "stream",
     "text": [
      "Epoch reward 36.0\n"
     ]
    },
    {
     "name": "stderr",
     "output_type": "stream",
     "text": [
      "[a2c|TrainMonitor|INFO] ep: 17,\tT: 411,\tG: 14,\tavg_r: 1,\tavg_G: 25.4,\tt: 14,\tdt: 24.399ms,\tSimpleTD/loss: 1.65,\tVanillaPG/loss: 0.121\n"
     ]
    },
    {
     "name": "stdout",
     "output_type": "stream",
     "text": [
      "Epoch reward 14.0\n"
     ]
    },
    {
     "name": "stderr",
     "output_type": "stream",
     "text": [
      "[a2c|TrainMonitor|INFO] ep: 18,\tT: 446,\tG: 34,\tavg_r: 1,\tavg_G: 26.3,\tt: 34,\tdt: 25.593ms,\tSimpleTD/loss: 0.838,\tVanillaPG/loss: 0.339\n"
     ]
    },
    {
     "name": "stdout",
     "output_type": "stream",
     "text": [
      "Epoch reward 34.0\n"
     ]
    },
    {
     "name": "stderr",
     "output_type": "stream",
     "text": [
      "[a2c|TrainMonitor|INFO] ep: 19,\tT: 464,\tG: 17,\tavg_r: 1,\tavg_G: 25.4,\tt: 17,\tdt: 23.330ms,\tSimpleTD/loss: 2.45,\tVanillaPG/loss: 0.117\n"
     ]
    },
    {
     "name": "stdout",
     "output_type": "stream",
     "text": [
      "Epoch reward 17.0\n"
     ]
    },
    {
     "name": "stderr",
     "output_type": "stream",
     "text": [
      "[a2c|TrainMonitor|INFO] ep: 20,\tT: 493,\tG: 28,\tavg_r: 1,\tavg_G: 25.6,\tt: 28,\tdt: 25.303ms,\tSimpleTD/loss: 2.95,\tVanillaPG/loss: 0.192\n"
     ]
    },
    {
     "name": "stdout",
     "output_type": "stream",
     "text": [
      "Epoch reward 28.0\n"
     ]
    },
    {
     "name": "stderr",
     "output_type": "stream",
     "text": [
      "[a2c|TrainMonitor|INFO] ep: 21,\tT: 505,\tG: 11,\tavg_r: 1,\tavg_G: 24.2,\tt: 11,\tdt: 24.078ms,\tSimpleTD/loss: 5.02,\tVanillaPG/loss: 0.0873\n"
     ]
    },
    {
     "name": "stdout",
     "output_type": "stream",
     "text": [
      "Epoch reward 11.0\n"
     ]
    },
    {
     "name": "stderr",
     "output_type": "stream",
     "text": [
      "[a2c|TrainMonitor|INFO] ep: 22,\tT: 525,\tG: 19,\tavg_r: 1,\tavg_G: 23.6,\tt: 19,\tdt: 24.746ms,\tSimpleTD/loss: 1.06,\tVanillaPG/loss: 0.14\n"
     ]
    },
    {
     "name": "stdout",
     "output_type": "stream",
     "text": [
      "Epoch reward 19.0\n"
     ]
    },
    {
     "name": "stderr",
     "output_type": "stream",
     "text": [
      "[a2c|TrainMonitor|INFO] ep: 23,\tT: 538,\tG: 12,\tavg_r: 1,\tavg_G: 22.5,\tt: 12,\tdt: 25.341ms,\tSimpleTD/loss: 2.31,\tVanillaPG/loss: 0.0731\n"
     ]
    },
    {
     "name": "stdout",
     "output_type": "stream",
     "text": [
      "Epoch reward 12.0\n"
     ]
    },
    {
     "name": "stderr",
     "output_type": "stream",
     "text": [
      "[a2c|TrainMonitor|INFO] ep: 24,\tT: 556,\tG: 17,\tavg_r: 1,\tavg_G: 21.9,\tt: 17,\tdt: 24.563ms,\tSimpleTD/loss: 0.737,\tVanillaPG/loss: 0.109\n"
     ]
    },
    {
     "name": "stdout",
     "output_type": "stream",
     "text": [
      "Epoch reward 17.0\n"
     ]
    },
    {
     "name": "stderr",
     "output_type": "stream",
     "text": [
      "[a2c|TrainMonitor|INFO] ep: 25,\tT: 571,\tG: 14,\tavg_r: 1,\tavg_G: 21.1,\tt: 14,\tdt: 25.114ms,\tSimpleTD/loss: 2.02,\tVanillaPG/loss: 0.165\n"
     ]
    },
    {
     "name": "stdout",
     "output_type": "stream",
     "text": [
      "Epoch reward 14.0\n"
     ]
    },
    {
     "name": "stderr",
     "output_type": "stream",
     "text": [
      "[a2c|TrainMonitor|INFO] ep: 26,\tT: 585,\tG: 13,\tavg_r: 1,\tavg_G: 20.3,\tt: 13,\tdt: 24.379ms,\tSimpleTD/loss: 1.17,\tVanillaPG/loss: 0.183\n"
     ]
    },
    {
     "name": "stdout",
     "output_type": "stream",
     "text": [
      "Epoch reward 13.0\n"
     ]
    },
    {
     "name": "stderr",
     "output_type": "stream",
     "text": [
      "[a2c|TrainMonitor|INFO] ep: 27,\tT: 596,\tG: 10,\tavg_r: 1,\tavg_G: 19.3,\tt: 10,\tdt: 24.880ms,\tSimpleTD/loss: 2.32,\tVanillaPG/loss: -0.551\n"
     ]
    },
    {
     "name": "stdout",
     "output_type": "stream",
     "text": [
      "Epoch reward 10.0\n"
     ]
    },
    {
     "name": "stderr",
     "output_type": "stream",
     "text": [
      "[a2c|TrainMonitor|INFO] ep: 28,\tT: 607,\tG: 10,\tavg_r: 1,\tavg_G: 18.4,\tt: 10,\tdt: 24.794ms,\tSimpleTD/loss: 3.14,\tVanillaPG/loss: -0.931\n"
     ]
    },
    {
     "name": "stdout",
     "output_type": "stream",
     "text": [
      "Epoch reward 10.0\n"
     ]
    },
    {
     "name": "stderr",
     "output_type": "stream",
     "text": [
      "[a2c|TrainMonitor|INFO] ep: 29,\tT: 627,\tG: 19,\tavg_r: 1,\tavg_G: 18.4,\tt: 19,\tdt: 24.180ms,\tSimpleTD/loss: 1.6,\tVanillaPG/loss: 0.274\n"
     ]
    },
    {
     "name": "stdout",
     "output_type": "stream",
     "text": [
      "Epoch reward 19.0\n"
     ]
    },
    {
     "name": "stderr",
     "output_type": "stream",
     "text": [
      "[a2c|TrainMonitor|INFO] ep: 30,\tT: 639,\tG: 11,\tavg_r: 1,\tavg_G: 17.7,\tt: 11,\tdt: 24.508ms,\tSimpleTD/loss: 2.38,\tVanillaPG/loss: 0.211\n"
     ]
    },
    {
     "name": "stdout",
     "output_type": "stream",
     "text": [
      "Epoch reward 11.0\n"
     ]
    },
    {
     "name": "stderr",
     "output_type": "stream",
     "text": [
      "[a2c|TrainMonitor|INFO] ep: 31,\tT: 651,\tG: 11,\tavg_r: 1,\tavg_G: 17,\tt: 11,\tdt: 25.351ms,\tSimpleTD/loss: 1.74,\tVanillaPG/loss: 0.164\n"
     ]
    },
    {
     "name": "stdout",
     "output_type": "stream",
     "text": [
      "Epoch reward 11.0\n"
     ]
    },
    {
     "name": "stderr",
     "output_type": "stream",
     "text": [
      "[a2c|TrainMonitor|INFO] ep: 32,\tT: 664,\tG: 12,\tavg_r: 1,\tavg_G: 16.5,\tt: 12,\tdt: 25.130ms,\tSimpleTD/loss: 1.28,\tVanillaPG/loss: 0.232\n"
     ]
    },
    {
     "name": "stdout",
     "output_type": "stream",
     "text": [
      "Epoch reward 12.0\n"
     ]
    },
    {
     "name": "stderr",
     "output_type": "stream",
     "text": [
      "[a2c|TrainMonitor|INFO] ep: 33,\tT: 680,\tG: 15,\tavg_r: 1,\tavg_G: 16.4,\tt: 15,\tdt: 26.451ms,\tSimpleTD/loss: 0.572,\tVanillaPG/loss: -0.197\n"
     ]
    },
    {
     "name": "stdout",
     "output_type": "stream",
     "text": [
      "Epoch reward 15.0\n"
     ]
    },
    {
     "name": "stderr",
     "output_type": "stream",
     "text": [
      "[a2c|TrainMonitor|INFO] ep: 34,\tT: 700,\tG: 19,\tavg_r: 1,\tavg_G: 16.6,\tt: 19,\tdt: 25.880ms,\tSimpleTD/loss: 1.28,\tVanillaPG/loss: 0.244\n"
     ]
    },
    {
     "name": "stdout",
     "output_type": "stream",
     "text": [
      "Epoch reward 19.0\n"
     ]
    },
    {
     "name": "stderr",
     "output_type": "stream",
     "text": [
      "[a2c|TrainMonitor|INFO] ep: 35,\tT: 717,\tG: 16,\tavg_r: 1,\tavg_G: 16.6,\tt: 16,\tdt: 24.740ms,\tSimpleTD/loss: 0.515,\tVanillaPG/loss: 0.337\n"
     ]
    },
    {
     "name": "stdout",
     "output_type": "stream",
     "text": [
      "Epoch reward 16.0\n"
     ]
    },
    {
     "name": "stderr",
     "output_type": "stream",
     "text": [
      "[a2c|TrainMonitor|INFO] ep: 36,\tT: 729,\tG: 11,\tavg_r: 1,\tavg_G: 16,\tt: 11,\tdt: 24.297ms,\tSimpleTD/loss: 0.749,\tVanillaPG/loss: 0.18\n"
     ]
    },
    {
     "name": "stdout",
     "output_type": "stream",
     "text": [
      "Epoch reward 11.0\n"
     ]
    },
    {
     "name": "stderr",
     "output_type": "stream",
     "text": [
      "[a2c|TrainMonitor|INFO] ep: 37,\tT: 742,\tG: 12,\tavg_r: 1,\tavg_G: 15.6,\tt: 12,\tdt: 25.069ms,\tSimpleTD/loss: 2.82,\tVanillaPG/loss: 0.146\n"
     ]
    },
    {
     "name": "stdout",
     "output_type": "stream",
     "text": [
      "Epoch reward 12.0\n"
     ]
    },
    {
     "name": "stderr",
     "output_type": "stream",
     "text": [
      "[a2c|TrainMonitor|INFO] ep: 38,\tT: 760,\tG: 17,\tavg_r: 1,\tavg_G: 15.7,\tt: 17,\tdt: 24.157ms,\tSimpleTD/loss: 0.769,\tVanillaPG/loss: 0.262\n"
     ]
    },
    {
     "name": "stdout",
     "output_type": "stream",
     "text": [
      "Epoch reward 17.0\n"
     ]
    },
    {
     "name": "stderr",
     "output_type": "stream",
     "text": [
      "[a2c|TrainMonitor|INFO] ep: 39,\tT: 783,\tG: 22,\tavg_r: 1,\tavg_G: 16.4,\tt: 22,\tdt: 26.370ms,\tSimpleTD/loss: 0.93,\tVanillaPG/loss: 0.157\n"
     ]
    },
    {
     "name": "stdout",
     "output_type": "stream",
     "text": [
      "Epoch reward 22.0\n"
     ]
    },
    {
     "name": "stderr",
     "output_type": "stream",
     "text": [
      "[a2c|TrainMonitor|INFO] ep: 40,\tT: 805,\tG: 21,\tavg_r: 1,\tavg_G: 16.8,\tt: 21,\tdt: 26.061ms,\tSimpleTD/loss: 0.825,\tVanillaPG/loss: 0.247\n"
     ]
    },
    {
     "name": "stdout",
     "output_type": "stream",
     "text": [
      "Epoch reward 21.0\n"
     ]
    },
    {
     "name": "stderr",
     "output_type": "stream",
     "text": [
      "[a2c|TrainMonitor|INFO] ep: 41,\tT: 819,\tG: 13,\tavg_r: 1,\tavg_G: 16.5,\tt: 13,\tdt: 26.355ms,\tSimpleTD/loss: 0.671,\tVanillaPG/loss: 0.138\n"
     ]
    },
    {
     "name": "stdout",
     "output_type": "stream",
     "text": [
      "Epoch reward 13.0\n"
     ]
    },
    {
     "name": "stderr",
     "output_type": "stream",
     "text": [
      "[a2c|TrainMonitor|INFO] ep: 42,\tT: 829,\tG: 9,\tavg_r: 1,\tavg_G: 15.7,\tt: 9,\tdt: 24.776ms,\tSimpleTD/loss: 0.654,\tVanillaPG/loss: 0.058\n"
     ]
    },
    {
     "name": "stdout",
     "output_type": "stream",
     "text": [
      "Epoch reward 9.0\n"
     ]
    },
    {
     "name": "stderr",
     "output_type": "stream",
     "text": [
      "[a2c|TrainMonitor|INFO] ep: 43,\tT: 841,\tG: 11,\tavg_r: 1,\tavg_G: 15.2,\tt: 11,\tdt: 26.730ms,\tSimpleTD/loss: 0.489,\tVanillaPG/loss: 0.128\n"
     ]
    },
    {
     "name": "stdout",
     "output_type": "stream",
     "text": [
      "Epoch reward 11.0\n"
     ]
    },
    {
     "name": "stderr",
     "output_type": "stream",
     "text": [
      "[a2c|TrainMonitor|INFO] ep: 44,\tT: 853,\tG: 11,\tavg_r: 1,\tavg_G: 14.8,\tt: 11,\tdt: 26.285ms,\tSimpleTD/loss: 0.474,\tVanillaPG/loss: 0.138\n"
     ]
    },
    {
     "name": "stdout",
     "output_type": "stream",
     "text": [
      "Epoch reward 11.0\n"
     ]
    },
    {
     "name": "stderr",
     "output_type": "stream",
     "text": [
      "[a2c|TrainMonitor|INFO] ep: 45,\tT: 869,\tG: 15,\tavg_r: 1,\tavg_G: 14.8,\tt: 15,\tdt: 25.434ms,\tSimpleTD/loss: 0.39,\tVanillaPG/loss: 0.246\n"
     ]
    },
    {
     "name": "stdout",
     "output_type": "stream",
     "text": [
      "Epoch reward 15.0\n"
     ]
    },
    {
     "name": "stderr",
     "output_type": "stream",
     "text": [
      "[a2c|TrainMonitor|INFO] ep: 46,\tT: 882,\tG: 12,\tavg_r: 1,\tavg_G: 14.5,\tt: 12,\tdt: 25.167ms,\tSimpleTD/loss: 0.449,\tVanillaPG/loss: 0.267\n"
     ]
    },
    {
     "name": "stdout",
     "output_type": "stream",
     "text": [
      "Epoch reward 12.0\n"
     ]
    },
    {
     "name": "stderr",
     "output_type": "stream",
     "text": [
      "[a2c|TrainMonitor|INFO] ep: 47,\tT: 893,\tG: 10,\tavg_r: 1,\tavg_G: 14.1,\tt: 10,\tdt: 24.831ms,\tSimpleTD/loss: 0.754,\tVanillaPG/loss: -0.708\n"
     ]
    },
    {
     "name": "stdout",
     "output_type": "stream",
     "text": [
      "Epoch reward 10.0\n"
     ]
    },
    {
     "name": "stderr",
     "output_type": "stream",
     "text": [
      "[a2c|TrainMonitor|INFO] ep: 48,\tT: 908,\tG: 14,\tavg_r: 1,\tavg_G: 14.1,\tt: 14,\tdt: 25.308ms,\tSimpleTD/loss: 0.46,\tVanillaPG/loss: 0.23\n"
     ]
    },
    {
     "name": "stdout",
     "output_type": "stream",
     "text": [
      "Epoch reward 14.0\n"
     ]
    },
    {
     "name": "stderr",
     "output_type": "stream",
     "text": [
      "[a2c|TrainMonitor|INFO] ep: 49,\tT: 927,\tG: 18,\tavg_r: 1,\tavg_G: 14.5,\tt: 18,\tdt: 25.989ms,\tSimpleTD/loss: 0.383,\tVanillaPG/loss: 0.145\n"
     ]
    },
    {
     "name": "stdout",
     "output_type": "stream",
     "text": [
      "Epoch reward 18.0\n"
     ]
    },
    {
     "name": "stderr",
     "output_type": "stream",
     "text": [
      "[a2c|TrainMonitor|INFO] ep: 50,\tT: 949,\tG: 21,\tavg_r: 1,\tavg_G: 15.1,\tt: 21,\tdt: 25.934ms,\tSimpleTD/loss: 3.12,\tVanillaPG/loss: -0.286\n"
     ]
    },
    {
     "name": "stdout",
     "output_type": "stream",
     "text": [
      "Epoch reward 21.0\n"
     ]
    },
    {
     "name": "stderr",
     "output_type": "stream",
     "text": [
      "[a2c|TrainMonitor|INFO] ep: 51,\tT: 959,\tG: 9,\tavg_r: 1,\tavg_G: 14.5,\tt: 9,\tdt: 25.626ms,\tSimpleTD/loss: 0.706,\tVanillaPG/loss: -0.0435\n"
     ]
    },
    {
     "name": "stdout",
     "output_type": "stream",
     "text": [
      "Epoch reward 9.0\n"
     ]
    },
    {
     "name": "stderr",
     "output_type": "stream",
     "text": [
      "[a2c|TrainMonitor|INFO] ep: 52,\tT: 970,\tG: 10,\tavg_r: 1,\tavg_G: 14.1,\tt: 10,\tdt: 25.502ms,\tSimpleTD/loss: 0.654,\tVanillaPG/loss: 0.00166\n"
     ]
    },
    {
     "name": "stdout",
     "output_type": "stream",
     "text": [
      "Epoch reward 10.0\n"
     ]
    },
    {
     "name": "stderr",
     "output_type": "stream",
     "text": [
      "[a2c|TrainMonitor|INFO] ep: 53,\tT: 980,\tG: 9,\tavg_r: 1,\tavg_G: 13.6,\tt: 9,\tdt: 25.730ms,\tSimpleTD/loss: 17.3,\tVanillaPG/loss: -0.066\n"
     ]
    },
    {
     "name": "stdout",
     "output_type": "stream",
     "text": [
      "Epoch reward 9.0\n"
     ]
    },
    {
     "name": "stderr",
     "output_type": "stream",
     "text": [
      "[a2c|TrainMonitor|INFO] ep: 54,\tT: 992,\tG: 11,\tavg_r: 1,\tavg_G: 13.3,\tt: 11,\tdt: 25.292ms,\tSimpleTD/loss: 2.55,\tVanillaPG/loss: -0.0403\n"
     ]
    },
    {
     "name": "stdout",
     "output_type": "stream",
     "text": [
      "Epoch reward 11.0\n"
     ]
    },
    {
     "name": "stderr",
     "output_type": "stream",
     "text": [
      "[a2c|TrainMonitor|INFO] ep: 55,\tT: 1,004,\tG: 11,\tavg_r: 1,\tavg_G: 13.1,\tt: 11,\tdt: 24.721ms,\tSimpleTD/loss: 0.195,\tVanillaPG/loss: 0.165\n"
     ]
    },
    {
     "name": "stdout",
     "output_type": "stream",
     "text": [
      "Epoch reward 11.0\n"
     ]
    },
    {
     "name": "stderr",
     "output_type": "stream",
     "text": [
      "[a2c|TrainMonitor|INFO] ep: 56,\tT: 1,014,\tG: 9,\tavg_r: 1,\tavg_G: 12.7,\tt: 9,\tdt: 25.496ms,\tSimpleTD/loss: 0.198,\tVanillaPG/loss: 0.0897\n"
     ]
    },
    {
     "name": "stdout",
     "output_type": "stream",
     "text": [
      "Epoch reward 9.0\n"
     ]
    },
    {
     "name": "stderr",
     "output_type": "stream",
     "text": [
      "[a2c|TrainMonitor|INFO] ep: 57,\tT: 1,030,\tG: 15,\tavg_r: 1,\tavg_G: 12.9,\tt: 15,\tdt: 25.574ms,\tSimpleTD/loss: 0.207,\tVanillaPG/loss: 0.228\n"
     ]
    },
    {
     "name": "stdout",
     "output_type": "stream",
     "text": [
      "Epoch reward 15.0\n"
     ]
    },
    {
     "name": "stderr",
     "output_type": "stream",
     "text": [
      "[a2c|TrainMonitor|INFO] ep: 58,\tT: 1,040,\tG: 9,\tavg_r: 1,\tavg_G: 12.5,\tt: 9,\tdt: 26.838ms,\tSimpleTD/loss: 2.66,\tVanillaPG/loss: 0.159\n"
     ]
    },
    {
     "name": "stdout",
     "output_type": "stream",
     "text": [
      "Epoch reward 9.0\n"
     ]
    },
    {
     "name": "stderr",
     "output_type": "stream",
     "text": [
      "[a2c|TrainMonitor|INFO] ep: 59,\tT: 1,070,\tG: 29,\tavg_r: 1,\tavg_G: 14.2,\tt: 29,\tdt: 25.570ms,\tSimpleTD/loss: 0.639,\tVanillaPG/loss: 0.32\n"
     ]
    },
    {
     "name": "stdout",
     "output_type": "stream",
     "text": [
      "Epoch reward 29.0\n"
     ]
    },
    {
     "name": "stderr",
     "output_type": "stream",
     "text": [
      "[a2c|TrainMonitor|INFO] ep: 60,\tT: 1,086,\tG: 15,\tavg_r: 1,\tavg_G: 14.2,\tt: 15,\tdt: 24.201ms,\tSimpleTD/loss: 1.08,\tVanillaPG/loss: 0.199\n"
     ]
    },
    {
     "name": "stdout",
     "output_type": "stream",
     "text": [
      "Epoch reward 15.0\n"
     ]
    },
    {
     "name": "stderr",
     "output_type": "stream",
     "text": [
      "[a2c|TrainMonitor|INFO] ep: 61,\tT: 1,101,\tG: 14,\tavg_r: 1,\tavg_G: 14.2,\tt: 14,\tdt: 24.504ms,\tSimpleTD/loss: 2.08,\tVanillaPG/loss: 0.177\n"
     ]
    },
    {
     "name": "stdout",
     "output_type": "stream",
     "text": [
      "Epoch reward 14.0\n"
     ]
    },
    {
     "name": "stderr",
     "output_type": "stream",
     "text": [
      "[a2c|TrainMonitor|INFO] ep: 62,\tT: 1,121,\tG: 19,\tavg_r: 1,\tavg_G: 14.7,\tt: 19,\tdt: 24.846ms,\tSimpleTD/loss: 1.34,\tVanillaPG/loss: 0.161\n"
     ]
    },
    {
     "name": "stdout",
     "output_type": "stream",
     "text": [
      "Epoch reward 19.0\n"
     ]
    },
    {
     "name": "stderr",
     "output_type": "stream",
     "text": [
      "[a2c|TrainMonitor|INFO] ep: 63,\tT: 1,136,\tG: 14,\tavg_r: 1,\tavg_G: 14.6,\tt: 14,\tdt: 24.309ms,\tSimpleTD/loss: 0.424,\tVanillaPG/loss: 0.217\n"
     ]
    },
    {
     "name": "stdout",
     "output_type": "stream",
     "text": [
      "Epoch reward 14.0\n"
     ]
    },
    {
     "name": "stderr",
     "output_type": "stream",
     "text": [
      "[a2c|TrainMonitor|INFO] ep: 64,\tT: 1,146,\tG: 9,\tavg_r: 1,\tavg_G: 14.1,\tt: 9,\tdt: 25.239ms,\tSimpleTD/loss: 3.1,\tVanillaPG/loss: 0.0247\n"
     ]
    },
    {
     "name": "stdout",
     "output_type": "stream",
     "text": [
      "Epoch reward 9.0\n"
     ]
    },
    {
     "name": "stderr",
     "output_type": "stream",
     "text": [
      "[a2c|TrainMonitor|INFO] ep: 65,\tT: 1,157,\tG: 10,\tavg_r: 1,\tavg_G: 13.7,\tt: 10,\tdt: 25.061ms,\tSimpleTD/loss: 1.71,\tVanillaPG/loss: 0.0131\n"
     ]
    },
    {
     "name": "stdout",
     "output_type": "stream",
     "text": [
      "Epoch reward 10.0\n"
     ]
    },
    {
     "name": "stderr",
     "output_type": "stream",
     "text": [
      "[a2c|TrainMonitor|INFO] ep: 66,\tT: 1,169,\tG: 11,\tavg_r: 1,\tavg_G: 13.4,\tt: 11,\tdt: 24.799ms,\tSimpleTD/loss: 0.543,\tVanillaPG/loss: 0.157\n"
     ]
    },
    {
     "name": "stdout",
     "output_type": "stream",
     "text": [
      "Epoch reward 11.0\n"
     ]
    },
    {
     "name": "stderr",
     "output_type": "stream",
     "text": [
      "[a2c|TrainMonitor|INFO] ep: 67,\tT: 1,185,\tG: 15,\tavg_r: 1,\tavg_G: 13.6,\tt: 15,\tdt: 24.784ms,\tSimpleTD/loss: 0.439,\tVanillaPG/loss: 0.223\n"
     ]
    },
    {
     "name": "stdout",
     "output_type": "stream",
     "text": [
      "Epoch reward 15.0\n"
     ]
    },
    {
     "name": "stderr",
     "output_type": "stream",
     "text": [
      "[a2c|TrainMonitor|INFO] ep: 68,\tT: 1,207,\tG: 21,\tavg_r: 1,\tavg_G: 14.3,\tt: 21,\tdt: 26.053ms,\tSimpleTD/loss: 0.692,\tVanillaPG/loss: 0.148\n"
     ]
    },
    {
     "name": "stdout",
     "output_type": "stream",
     "text": [
      "Epoch reward 21.0\n"
     ]
    },
    {
     "name": "stderr",
     "output_type": "stream",
     "text": [
      "[a2c|TrainMonitor|INFO] ep: 69,\tT: 1,225,\tG: 17,\tavg_r: 1,\tavg_G: 14.6,\tt: 17,\tdt: 26.020ms,\tSimpleTD/loss: 0.83,\tVanillaPG/loss: 0.18\n"
     ]
    },
    {
     "name": "stdout",
     "output_type": "stream",
     "text": [
      "Epoch reward 17.0\n"
     ]
    },
    {
     "name": "stderr",
     "output_type": "stream",
     "text": [
      "[a2c|TrainMonitor|INFO] ep: 70,\tT: 1,242,\tG: 16,\tavg_r: 1,\tavg_G: 14.7,\tt: 16,\tdt: 24.328ms,\tSimpleTD/loss: 1.13,\tVanillaPG/loss: 0.111\n"
     ]
    },
    {
     "name": "stdout",
     "output_type": "stream",
     "text": [
      "Epoch reward 16.0\n"
     ]
    },
    {
     "name": "stderr",
     "output_type": "stream",
     "text": [
      "[a2c|TrainMonitor|INFO] ep: 71,\tT: 1,263,\tG: 20,\tavg_r: 1,\tavg_G: 15.2,\tt: 20,\tdt: 25.097ms,\tSimpleTD/loss: 0.461,\tVanillaPG/loss: 0.171\n"
     ]
    },
    {
     "name": "stdout",
     "output_type": "stream",
     "text": [
      "Epoch reward 20.0\n"
     ]
    },
    {
     "name": "stderr",
     "output_type": "stream",
     "text": [
      "[a2c|TrainMonitor|INFO] ep: 72,\tT: 1,281,\tG: 17,\tavg_r: 1,\tavg_G: 15.4,\tt: 17,\tdt: 24.733ms,\tSimpleTD/loss: 0.622,\tVanillaPG/loss: 0.128\n"
     ]
    },
    {
     "name": "stdout",
     "output_type": "stream",
     "text": [
      "Epoch reward 17.0\n"
     ]
    },
    {
     "name": "stderr",
     "output_type": "stream",
     "text": [
      "[a2c|TrainMonitor|INFO] ep: 73,\tT: 1,304,\tG: 22,\tavg_r: 1,\tavg_G: 16.1,\tt: 22,\tdt: 25.309ms,\tSimpleTD/loss: 0.425,\tVanillaPG/loss: 0.142\n"
     ]
    },
    {
     "name": "stdout",
     "output_type": "stream",
     "text": [
      "Epoch reward 22.0\n"
     ]
    },
    {
     "name": "stderr",
     "output_type": "stream",
     "text": [
      "[a2c|TrainMonitor|INFO] ep: 74,\tT: 1,326,\tG: 21,\tavg_r: 1,\tavg_G: 16.6,\tt: 21,\tdt: 24.906ms,\tSimpleTD/loss: 0.436,\tVanillaPG/loss: 0.00242\n"
     ]
    },
    {
     "name": "stdout",
     "output_type": "stream",
     "text": [
      "Epoch reward 21.0\n"
     ]
    },
    {
     "name": "stderr",
     "output_type": "stream",
     "text": [
      "[a2c|TrainMonitor|INFO] ep: 75,\tT: 1,350,\tG: 23,\tavg_r: 1,\tavg_G: 17.2,\tt: 23,\tdt: 25.574ms,\tSimpleTD/loss: 0.408,\tVanillaPG/loss: 0.0772\n"
     ]
    },
    {
     "name": "stdout",
     "output_type": "stream",
     "text": [
      "Epoch reward 23.0\n"
     ]
    },
    {
     "name": "stderr",
     "output_type": "stream",
     "text": [
      "[a2c|TrainMonitor|INFO] ep: 76,\tT: 1,361,\tG: 10,\tavg_r: 1,\tavg_G: 16.5,\tt: 10,\tdt: 25.246ms,\tSimpleTD/loss: 2.31,\tVanillaPG/loss: -0.173\n"
     ]
    },
    {
     "name": "stdout",
     "output_type": "stream",
     "text": [
      "Epoch reward 10.0\n"
     ]
    },
    {
     "name": "stderr",
     "output_type": "stream",
     "text": [
      "[a2c|TrainMonitor|INFO] ep: 77,\tT: 1,372,\tG: 10,\tavg_r: 1,\tavg_G: 15.8,\tt: 10,\tdt: 24.225ms,\tSimpleTD/loss: 0.736,\tVanillaPG/loss: -0.0277\n"
     ]
    },
    {
     "name": "stdout",
     "output_type": "stream",
     "text": [
      "Epoch reward 10.0\n"
     ]
    },
    {
     "name": "stderr",
     "output_type": "stream",
     "text": [
      "[a2c|TrainMonitor|INFO] ep: 78,\tT: 1,389,\tG: 16,\tavg_r: 1,\tavg_G: 15.9,\tt: 16,\tdt: 23.905ms,\tSimpleTD/loss: 1.96,\tVanillaPG/loss: -0.203\n"
     ]
    },
    {
     "name": "stdout",
     "output_type": "stream",
     "text": [
      "Epoch reward 16.0\n"
     ]
    },
    {
     "name": "stderr",
     "output_type": "stream",
     "text": [
      "[a2c|TrainMonitor|INFO] ep: 79,\tT: 1,406,\tG: 16,\tavg_r: 1,\tavg_G: 15.9,\tt: 16,\tdt: 26.268ms,\tSimpleTD/loss: 0.988,\tVanillaPG/loss: 0.0575\n"
     ]
    },
    {
     "name": "stdout",
     "output_type": "stream",
     "text": [
      "Epoch reward 16.0\n"
     ]
    },
    {
     "name": "stderr",
     "output_type": "stream",
     "text": [
      "[a2c|TrainMonitor|INFO] ep: 80,\tT: 1,417,\tG: 10,\tavg_r: 1,\tavg_G: 15.3,\tt: 10,\tdt: 27.672ms,\tSimpleTD/loss: 0.325,\tVanillaPG/loss: 0.0381\n"
     ]
    },
    {
     "name": "stdout",
     "output_type": "stream",
     "text": [
      "Epoch reward 10.0\n"
     ]
    },
    {
     "name": "stderr",
     "output_type": "stream",
     "text": [
      "[a2c|TrainMonitor|INFO] ep: 81,\tT: 1,432,\tG: 14,\tavg_r: 1,\tavg_G: 15.2,\tt: 14,\tdt: 25.242ms,\tSimpleTD/loss: 1.08,\tVanillaPG/loss: -0.012\n"
     ]
    },
    {
     "name": "stdout",
     "output_type": "stream",
     "text": [
      "Epoch reward 14.0\n"
     ]
    },
    {
     "name": "stderr",
     "output_type": "stream",
     "text": [
      "[a2c|TrainMonitor|INFO] ep: 82,\tT: 1,449,\tG: 16,\tavg_r: 1,\tavg_G: 15.2,\tt: 16,\tdt: 24.228ms,\tSimpleTD/loss: 0.922,\tVanillaPG/loss: 0.0897\n"
     ]
    },
    {
     "name": "stdout",
     "output_type": "stream",
     "text": [
      "Epoch reward 16.0\n"
     ]
    },
    {
     "name": "stderr",
     "output_type": "stream",
     "text": [
      "[a2c|TrainMonitor|INFO] ep: 83,\tT: 1,493,\tG: 43,\tavg_r: 1,\tavg_G: 18,\tt: 43,\tdt: 24.815ms,\tSimpleTD/loss: 0.176,\tVanillaPG/loss: 0.23\n"
     ]
    },
    {
     "name": "stdout",
     "output_type": "stream",
     "text": [
      "Epoch reward 43.0\n"
     ]
    },
    {
     "name": "stderr",
     "output_type": "stream",
     "text": [
      "[a2c|TrainMonitor|INFO] ep: 84,\tT: 1,517,\tG: 23,\tavg_r: 1,\tavg_G: 18.5,\tt: 23,\tdt: 24.920ms,\tSimpleTD/loss: 1.05,\tVanillaPG/loss: -0.00545\n"
     ]
    },
    {
     "name": "stdout",
     "output_type": "stream",
     "text": [
      "Epoch reward 23.0\n"
     ]
    },
    {
     "name": "stderr",
     "output_type": "stream",
     "text": [
      "[a2c|TrainMonitor|INFO] ep: 85,\tT: 1,535,\tG: 17,\tavg_r: 1,\tavg_G: 18.4,\tt: 17,\tdt: 25.733ms,\tSimpleTD/loss: 1.11,\tVanillaPG/loss: -0.111\n"
     ]
    },
    {
     "name": "stdout",
     "output_type": "stream",
     "text": [
      "Epoch reward 17.0\n"
     ]
    },
    {
     "name": "stderr",
     "output_type": "stream",
     "text": [
      "[a2c|TrainMonitor|INFO] ep: 86,\tT: 1,546,\tG: 10,\tavg_r: 1,\tavg_G: 17.5,\tt: 10,\tdt: 24.724ms,\tSimpleTD/loss: 2,\tVanillaPG/loss: -0.17\n"
     ]
    },
    {
     "name": "stdout",
     "output_type": "stream",
     "text": [
      "Epoch reward 10.0\n"
     ]
    },
    {
     "name": "stderr",
     "output_type": "stream",
     "text": [
      "[a2c|TrainMonitor|INFO] ep: 87,\tT: 1,556,\tG: 9,\tavg_r: 1,\tavg_G: 16.7,\tt: 9,\tdt: 24.711ms,\tSimpleTD/loss: 0.722,\tVanillaPG/loss: -0.177\n"
     ]
    },
    {
     "name": "stdout",
     "output_type": "stream",
     "text": [
      "Epoch reward 9.0\n"
     ]
    },
    {
     "name": "stderr",
     "output_type": "stream",
     "text": [
      "[a2c|TrainMonitor|INFO] ep: 88,\tT: 1,567,\tG: 10,\tavg_r: 1,\tavg_G: 16,\tt: 10,\tdt: 25.501ms,\tSimpleTD/loss: 1.41,\tVanillaPG/loss: -0.329\n"
     ]
    },
    {
     "name": "stdout",
     "output_type": "stream",
     "text": [
      "Epoch reward 10.0\n"
     ]
    },
    {
     "name": "stderr",
     "output_type": "stream",
     "text": [
      "[a2c|TrainMonitor|INFO] ep: 89,\tT: 1,579,\tG: 11,\tavg_r: 1,\tavg_G: 15.5,\tt: 11,\tdt: 24.850ms,\tSimpleTD/loss: 1.03,\tVanillaPG/loss: -0.147\n"
     ]
    },
    {
     "name": "stdout",
     "output_type": "stream",
     "text": [
      "Epoch reward 11.0\n"
     ]
    },
    {
     "name": "stderr",
     "output_type": "stream",
     "text": [
      "[a2c|TrainMonitor|INFO] ep: 90,\tT: 1,600,\tG: 20,\tavg_r: 1,\tavg_G: 16,\tt: 20,\tdt: 23.569ms,\tSimpleTD/loss: 0.605,\tVanillaPG/loss: 0.0867\n"
     ]
    },
    {
     "name": "stdout",
     "output_type": "stream",
     "text": [
      "Epoch reward 20.0\n"
     ]
    },
    {
     "name": "stderr",
     "output_type": "stream",
     "text": [
      "[a2c|TrainMonitor|INFO] ep: 91,\tT: 1,626,\tG: 25,\tavg_r: 1,\tavg_G: 16.9,\tt: 25,\tdt: 25.090ms,\tSimpleTD/loss: 0.3,\tVanillaPG/loss: 0.188\n"
     ]
    },
    {
     "name": "stdout",
     "output_type": "stream",
     "text": [
      "Epoch reward 25.0\n"
     ]
    },
    {
     "name": "stderr",
     "output_type": "stream",
     "text": [
      "[a2c|TrainMonitor|INFO] ep: 92,\tT: 1,639,\tG: 12,\tavg_r: 1,\tavg_G: 16.4,\tt: 12,\tdt: 24.836ms,\tSimpleTD/loss: 1.12,\tVanillaPG/loss: 0.175\n"
     ]
    },
    {
     "name": "stdout",
     "output_type": "stream",
     "text": [
      "Epoch reward 12.0\n"
     ]
    },
    {
     "name": "stderr",
     "output_type": "stream",
     "text": [
      "[a2c|TrainMonitor|INFO] ep: 93,\tT: 1,651,\tG: 11,\tavg_r: 1,\tavg_G: 15.8,\tt: 11,\tdt: 23.669ms,\tSimpleTD/loss: 0.959,\tVanillaPG/loss: 0.032\n"
     ]
    },
    {
     "name": "stdout",
     "output_type": "stream",
     "text": [
      "Epoch reward 11.0\n"
     ]
    },
    {
     "name": "stderr",
     "output_type": "stream",
     "text": [
      "[a2c|TrainMonitor|INFO] ep: 94,\tT: 1,677,\tG: 25,\tavg_r: 1,\tavg_G: 16.8,\tt: 25,\tdt: 24.666ms,\tSimpleTD/loss: 0.366,\tVanillaPG/loss: 0.121\n"
     ]
    },
    {
     "name": "stdout",
     "output_type": "stream",
     "text": [
      "Epoch reward 25.0\n"
     ]
    },
    {
     "name": "stderr",
     "output_type": "stream",
     "text": [
      "[a2c|TrainMonitor|INFO] ep: 95,\tT: 1,693,\tG: 15,\tavg_r: 1,\tavg_G: 16.6,\tt: 15,\tdt: 24.998ms,\tSimpleTD/loss: 0.661,\tVanillaPG/loss: -0.0475\n"
     ]
    },
    {
     "name": "stdout",
     "output_type": "stream",
     "text": [
      "Epoch reward 15.0\n"
     ]
    },
    {
     "name": "stderr",
     "output_type": "stream",
     "text": [
      "[a2c|TrainMonitor|INFO] ep: 96,\tT: 1,732,\tG: 38,\tavg_r: 1,\tavg_G: 18.7,\tt: 38,\tdt: 24.488ms,\tSimpleTD/loss: 0.26,\tVanillaPG/loss: 0.108\n"
     ]
    },
    {
     "name": "stdout",
     "output_type": "stream",
     "text": [
      "Epoch reward 38.0\n"
     ]
    },
    {
     "name": "stderr",
     "output_type": "stream",
     "text": [
      "[a2c|TrainMonitor|INFO] ep: 97,\tT: 1,754,\tG: 21,\tavg_r: 1,\tavg_G: 18.9,\tt: 21,\tdt: 24.333ms,\tSimpleTD/loss: 0.87,\tVanillaPG/loss: 0.00558\n"
     ]
    },
    {
     "name": "stdout",
     "output_type": "stream",
     "text": [
      "Epoch reward 21.0\n"
     ]
    },
    {
     "name": "stderr",
     "output_type": "stream",
     "text": [
      "[a2c|TrainMonitor|INFO] ep: 98,\tT: 1,770,\tG: 15,\tavg_r: 1,\tavg_G: 18.6,\tt: 15,\tdt: 24.598ms,\tSimpleTD/loss: 1.1,\tVanillaPG/loss: -0.0522\n"
     ]
    },
    {
     "name": "stdout",
     "output_type": "stream",
     "text": [
      "Epoch reward 15.0\n"
     ]
    },
    {
     "name": "stderr",
     "output_type": "stream",
     "text": [
      "[a2c|TrainMonitor|INFO] ep: 99,\tT: 1,783,\tG: 12,\tavg_r: 1,\tavg_G: 17.9,\tt: 12,\tdt: 25.210ms,\tSimpleTD/loss: 1.85,\tVanillaPG/loss: -0.0933\n"
     ]
    },
    {
     "name": "stdout",
     "output_type": "stream",
     "text": [
      "Epoch reward 12.0\n"
     ]
    },
    {
     "name": "stderr",
     "output_type": "stream",
     "text": [
      "[a2c|TrainMonitor|INFO] ep: 100,\tT: 1,808,\tG: 24,\tavg_r: 1,\tavg_G: 18.5,\tt: 24,\tdt: 24.549ms,\tSimpleTD/loss: 0.691,\tVanillaPG/loss: -0.00557\n"
     ]
    },
    {
     "name": "stdout",
     "output_type": "stream",
     "text": [
      "Epoch reward 24.0\n"
     ]
    },
    {
     "name": "stderr",
     "output_type": "stream",
     "text": [
      "[a2c|TrainMonitor|INFO] ep: 101,\tT: 1,847,\tG: 38,\tavg_r: 1,\tavg_G: 20.5,\tt: 38,\tdt: 24.921ms,\tSimpleTD/loss: 0.753,\tVanillaPG/loss: 0.108\n"
     ]
    },
    {
     "name": "stdout",
     "output_type": "stream",
     "text": [
      "Epoch reward 38.0\n"
     ]
    },
    {
     "name": "stderr",
     "output_type": "stream",
     "text": [
      "[a2c|TrainMonitor|INFO] ep: 102,\tT: 1,863,\tG: 15,\tavg_r: 1,\tavg_G: 19.9,\tt: 15,\tdt: 25.267ms,\tSimpleTD/loss: 1.38,\tVanillaPG/loss: -0.064\n"
     ]
    },
    {
     "name": "stdout",
     "output_type": "stream",
     "text": [
      "Epoch reward 15.0\n"
     ]
    },
    {
     "name": "stderr",
     "output_type": "stream",
     "text": [
      "[a2c|TrainMonitor|INFO] ep: 103,\tT: 1,901,\tG: 37,\tavg_r: 1,\tavg_G: 21.6,\tt: 37,\tdt: 24.101ms,\tSimpleTD/loss: 0.421,\tVanillaPG/loss: 0.0773\n"
     ]
    },
    {
     "name": "stdout",
     "output_type": "stream",
     "text": [
      "Epoch reward 37.0\n"
     ]
    },
    {
     "name": "stderr",
     "output_type": "stream",
     "text": [
      "[a2c|TrainMonitor|INFO] ep: 104,\tT: 1,915,\tG: 13,\tavg_r: 1,\tavg_G: 20.8,\tt: 13,\tdt: 24.624ms,\tSimpleTD/loss: 0.97,\tVanillaPG/loss: -0.117\n"
     ]
    },
    {
     "name": "stdout",
     "output_type": "stream",
     "text": [
      "Epoch reward 13.0\n"
     ]
    },
    {
     "name": "stderr",
     "output_type": "stream",
     "text": [
      "[a2c|TrainMonitor|INFO] ep: 105,\tT: 1,948,\tG: 32,\tavg_r: 1,\tavg_G: 21.9,\tt: 32,\tdt: 25.327ms,\tSimpleTD/loss: 0.401,\tVanillaPG/loss: 0.0834\n"
     ]
    },
    {
     "name": "stdout",
     "output_type": "stream",
     "text": [
      "Epoch reward 32.0\n"
     ]
    },
    {
     "name": "stderr",
     "output_type": "stream",
     "text": [
      "[a2c|TrainMonitor|INFO] ep: 106,\tT: 1,969,\tG: 20,\tavg_r: 1,\tavg_G: 21.7,\tt: 20,\tdt: 25.025ms,\tSimpleTD/loss: 0.771,\tVanillaPG/loss: -0.0118\n"
     ]
    },
    {
     "name": "stdout",
     "output_type": "stream",
     "text": [
      "Epoch reward 20.0\n"
     ]
    },
    {
     "name": "stderr",
     "output_type": "stream",
     "text": [
      "[a2c|TrainMonitor|INFO] ep: 107,\tT: 1,999,\tG: 29,\tavg_r: 1,\tavg_G: 22.4,\tt: 29,\tdt: 24.178ms,\tSimpleTD/loss: 0.501,\tVanillaPG/loss: -0.000681\n"
     ]
    },
    {
     "name": "stdout",
     "output_type": "stream",
     "text": [
      "Epoch reward 29.0\n"
     ]
    },
    {
     "name": "stderr",
     "output_type": "stream",
     "text": [
      "[a2c|TrainMonitor|INFO] ep: 108,\tT: 2,020,\tG: 20,\tavg_r: 1,\tavg_G: 22.2,\tt: 20,\tdt: 24.029ms,\tSimpleTD/loss: 0.731,\tVanillaPG/loss: -0.0681\n"
     ]
    },
    {
     "name": "stdout",
     "output_type": "stream",
     "text": [
      "Epoch reward 20.0\n"
     ]
    },
    {
     "name": "stderr",
     "output_type": "stream",
     "text": [
      "[a2c|TrainMonitor|INFO] ep: 109,\tT: 2,039,\tG: 18,\tavg_r: 1,\tavg_G: 21.8,\tt: 18,\tdt: 24.746ms,\tSimpleTD/loss: 0.679,\tVanillaPG/loss: -0.0864\n"
     ]
    },
    {
     "name": "stdout",
     "output_type": "stream",
     "text": [
      "Epoch reward 18.0\n"
     ]
    },
    {
     "name": "stderr",
     "output_type": "stream",
     "text": [
      "[a2c|TrainMonitor|INFO] ep: 110,\tT: 2,066,\tG: 26,\tavg_r: 1,\tavg_G: 22.2,\tt: 26,\tdt: 24.467ms,\tSimpleTD/loss: 0.581,\tVanillaPG/loss: 0.0622\n"
     ]
    },
    {
     "name": "stdout",
     "output_type": "stream",
     "text": [
      "Epoch reward 26.0\n"
     ]
    },
    {
     "name": "stderr",
     "output_type": "stream",
     "text": [
      "[a2c|TrainMonitor|INFO] ep: 111,\tT: 2,101,\tG: 34,\tavg_r: 1,\tavg_G: 23.4,\tt: 34,\tdt: 24.938ms,\tSimpleTD/loss: 0.468,\tVanillaPG/loss: 0.0449\n"
     ]
    },
    {
     "name": "stdout",
     "output_type": "stream",
     "text": [
      "Epoch reward 34.0\n"
     ]
    },
    {
     "name": "stderr",
     "output_type": "stream",
     "text": [
      "[a2c|TrainMonitor|INFO] ep: 112,\tT: 2,115,\tG: 13,\tavg_r: 1,\tavg_G: 22.3,\tt: 13,\tdt: 25.612ms,\tSimpleTD/loss: 1.77,\tVanillaPG/loss: -0.224\n"
     ]
    },
    {
     "name": "stdout",
     "output_type": "stream",
     "text": [
      "Epoch reward 13.0\n"
     ]
    },
    {
     "name": "stderr",
     "output_type": "stream",
     "text": [
      "[a2c|TrainMonitor|INFO] ep: 113,\tT: 2,143,\tG: 27,\tavg_r: 1,\tavg_G: 22.8,\tt: 27,\tdt: 25.081ms,\tSimpleTD/loss: 0.407,\tVanillaPG/loss: 0.0413\n"
     ]
    },
    {
     "name": "stdout",
     "output_type": "stream",
     "text": [
      "Epoch reward 27.0\n"
     ]
    },
    {
     "name": "stderr",
     "output_type": "stream",
     "text": [
      "[a2c|TrainMonitor|INFO] ep: 114,\tT: 2,184,\tG: 40,\tavg_r: 1,\tavg_G: 24.5,\tt: 40,\tdt: 23.305ms,\tSimpleTD/loss: 0.465,\tVanillaPG/loss: 0.0355\n"
     ]
    },
    {
     "name": "stdout",
     "output_type": "stream",
     "text": [
      "Epoch reward 40.0\n"
     ]
    },
    {
     "name": "stderr",
     "output_type": "stream",
     "text": [
      "[a2c|TrainMonitor|INFO] ep: 115,\tT: 2,203,\tG: 18,\tavg_r: 1,\tavg_G: 23.9,\tt: 18,\tdt: 25.470ms,\tSimpleTD/loss: 0.476,\tVanillaPG/loss: -0.0519\n"
     ]
    },
    {
     "name": "stdout",
     "output_type": "stream",
     "text": [
      "Epoch reward 18.0\n"
     ]
    },
    {
     "name": "stderr",
     "output_type": "stream",
     "text": [
      "[a2c|TrainMonitor|INFO] ep: 116,\tT: 2,231,\tG: 27,\tavg_r: 1,\tavg_G: 24.2,\tt: 27,\tdt: 24.553ms,\tSimpleTD/loss: 1.04,\tVanillaPG/loss: -0.0649\n"
     ]
    },
    {
     "name": "stdout",
     "output_type": "stream",
     "text": [
      "Epoch reward 27.0\n"
     ]
    },
    {
     "name": "stderr",
     "output_type": "stream",
     "text": [
      "[a2c|TrainMonitor|INFO] ep: 117,\tT: 2,249,\tG: 17,\tavg_r: 1,\tavg_G: 23.5,\tt: 17,\tdt: 25.816ms,\tSimpleTD/loss: 0.8,\tVanillaPG/loss: -0.199\n"
     ]
    },
    {
     "name": "stdout",
     "output_type": "stream",
     "text": [
      "Epoch reward 17.0\n"
     ]
    },
    {
     "name": "stderr",
     "output_type": "stream",
     "text": [
      "[a2c|TrainMonitor|INFO] ep: 118,\tT: 2,268,\tG: 18,\tavg_r: 1,\tavg_G: 22.9,\tt: 18,\tdt: 24.381ms,\tSimpleTD/loss: 0.604,\tVanillaPG/loss: -0.153\n"
     ]
    },
    {
     "name": "stdout",
     "output_type": "stream",
     "text": [
      "Epoch reward 18.0\n"
     ]
    },
    {
     "name": "stderr",
     "output_type": "stream",
     "text": [
      "[a2c|TrainMonitor|INFO] ep: 119,\tT: 2,281,\tG: 12,\tavg_r: 1,\tavg_G: 21.8,\tt: 12,\tdt: 24.467ms,\tSimpleTD/loss: 0.502,\tVanillaPG/loss: -0.0943\n"
     ]
    },
    {
     "name": "stdout",
     "output_type": "stream",
     "text": [
      "Epoch reward 12.0\n"
     ]
    },
    {
     "name": "stderr",
     "output_type": "stream",
     "text": [
      "[a2c|TrainMonitor|INFO] ep: 120,\tT: 2,313,\tG: 31,\tavg_r: 1,\tavg_G: 22.7,\tt: 31,\tdt: 24.649ms,\tSimpleTD/loss: 0.249,\tVanillaPG/loss: 0.103\n"
     ]
    },
    {
     "name": "stdout",
     "output_type": "stream",
     "text": [
      "Epoch reward 31.0\n"
     ]
    },
    {
     "name": "stderr",
     "output_type": "stream",
     "text": [
      "[a2c|TrainMonitor|INFO] ep: 121,\tT: 2,332,\tG: 18,\tavg_r: 1,\tavg_G: 22.3,\tt: 18,\tdt: 25.925ms,\tSimpleTD/loss: 0.377,\tVanillaPG/loss: -0.0166\n"
     ]
    },
    {
     "name": "stdout",
     "output_type": "stream",
     "text": [
      "Epoch reward 18.0\n"
     ]
    },
    {
     "name": "stderr",
     "output_type": "stream",
     "text": [
      "[a2c|TrainMonitor|INFO] ep: 122,\tT: 2,353,\tG: 20,\tavg_r: 1,\tavg_G: 22,\tt: 20,\tdt: 25.715ms,\tSimpleTD/loss: 0.563,\tVanillaPG/loss: 0.00675\n"
     ]
    },
    {
     "name": "stdout",
     "output_type": "stream",
     "text": [
      "Epoch reward 20.0\n"
     ]
    },
    {
     "name": "stderr",
     "output_type": "stream",
     "text": [
      "[a2c|TrainMonitor|INFO] ep: 123,\tT: 2,380,\tG: 26,\tavg_r: 1,\tavg_G: 22.4,\tt: 26,\tdt: 24.180ms,\tSimpleTD/loss: 0.52,\tVanillaPG/loss: -0.073\n"
     ]
    },
    {
     "name": "stdout",
     "output_type": "stream",
     "text": [
      "Epoch reward 26.0\n"
     ]
    },
    {
     "name": "stderr",
     "output_type": "stream",
     "text": [
      "[a2c|TrainMonitor|INFO] ep: 124,\tT: 2,409,\tG: 28,\tavg_r: 1,\tavg_G: 23,\tt: 28,\tdt: 24.613ms,\tSimpleTD/loss: 0.631,\tVanillaPG/loss: -0.0452\n"
     ]
    },
    {
     "name": "stdout",
     "output_type": "stream",
     "text": [
      "Epoch reward 28.0\n"
     ]
    },
    {
     "name": "stderr",
     "output_type": "stream",
     "text": [
      "[a2c|TrainMonitor|INFO] ep: 125,\tT: 2,429,\tG: 19,\tavg_r: 1,\tavg_G: 22.6,\tt: 19,\tdt: 23.460ms,\tSimpleTD/loss: 0.809,\tVanillaPG/loss: -0.129\n"
     ]
    },
    {
     "name": "stdout",
     "output_type": "stream",
     "text": [
      "Epoch reward 19.0\n"
     ]
    },
    {
     "name": "stderr",
     "output_type": "stream",
     "text": [
      "[a2c|TrainMonitor|INFO] ep: 126,\tT: 2,444,\tG: 14,\tavg_r: 1,\tavg_G: 21.7,\tt: 14,\tdt: 22.914ms,\tSimpleTD/loss: 0.405,\tVanillaPG/loss: -0.142\n"
     ]
    },
    {
     "name": "stdout",
     "output_type": "stream",
     "text": [
      "Epoch reward 14.0\n"
     ]
    },
    {
     "name": "stderr",
     "output_type": "stream",
     "text": [
      "[a2c|TrainMonitor|INFO] ep: 127,\tT: 2,464,\tG: 19,\tavg_r: 1,\tavg_G: 21.5,\tt: 19,\tdt: 25.289ms,\tSimpleTD/loss: 0.33,\tVanillaPG/loss: 0.00761\n"
     ]
    },
    {
     "name": "stdout",
     "output_type": "stream",
     "text": [
      "Epoch reward 19.0\n"
     ]
    },
    {
     "name": "stderr",
     "output_type": "stream",
     "text": [
      "[a2c|TrainMonitor|INFO] ep: 128,\tT: 2,505,\tG: 40,\tavg_r: 1,\tavg_G: 23.3,\tt: 40,\tdt: 23.914ms,\tSimpleTD/loss: 0.694,\tVanillaPG/loss: -0.0306\n"
     ]
    },
    {
     "name": "stdout",
     "output_type": "stream",
     "text": [
      "Epoch reward 40.0\n"
     ]
    },
    {
     "name": "stderr",
     "output_type": "stream",
     "text": [
      "[a2c|TrainMonitor|INFO] ep: 129,\tT: 2,529,\tG: 23,\tavg_r: 1,\tavg_G: 23.3,\tt: 23,\tdt: 24.799ms,\tSimpleTD/loss: 0.406,\tVanillaPG/loss: -0.117\n"
     ]
    },
    {
     "name": "stdout",
     "output_type": "stream",
     "text": [
      "Epoch reward 23.0\n"
     ]
    },
    {
     "name": "stderr",
     "output_type": "stream",
     "text": [
      "[a2c|TrainMonitor|INFO] ep: 130,\tT: 2,546,\tG: 16,\tavg_r: 1,\tavg_G: 22.6,\tt: 16,\tdt: 25.043ms,\tSimpleTD/loss: 1.04,\tVanillaPG/loss: -0.145\n"
     ]
    },
    {
     "name": "stdout",
     "output_type": "stream",
     "text": [
      "Epoch reward 16.0\n"
     ]
    },
    {
     "name": "stderr",
     "output_type": "stream",
     "text": [
      "[a2c|TrainMonitor|INFO] ep: 131,\tT: 2,567,\tG: 20,\tavg_r: 1,\tavg_G: 22.3,\tt: 20,\tdt: 26.275ms,\tSimpleTD/loss: 1.59,\tVanillaPG/loss: -0.0684\n"
     ]
    },
    {
     "name": "stdout",
     "output_type": "stream",
     "text": [
      "Epoch reward 20.0\n"
     ]
    },
    {
     "name": "stderr",
     "output_type": "stream",
     "text": [
      "[a2c|TrainMonitor|INFO] ep: 132,\tT: 2,618,\tG: 50,\tavg_r: 1,\tavg_G: 25.1,\tt: 50,\tdt: 24.759ms,\tSimpleTD/loss: 0.539,\tVanillaPG/loss: 0.00952\n"
     ]
    },
    {
     "name": "stdout",
     "output_type": "stream",
     "text": [
      "Epoch reward 50.0\n"
     ]
    },
    {
     "name": "stderr",
     "output_type": "stream",
     "text": [
      "[a2c|TrainMonitor|INFO] ep: 133,\tT: 2,652,\tG: 33,\tavg_r: 1,\tavg_G: 25.9,\tt: 33,\tdt: 24.687ms,\tSimpleTD/loss: 0.669,\tVanillaPG/loss: -0.0152\n"
     ]
    },
    {
     "name": "stdout",
     "output_type": "stream",
     "text": [
      "Epoch reward 33.0\n"
     ]
    },
    {
     "name": "stderr",
     "output_type": "stream",
     "text": [
      "[a2c|TrainMonitor|INFO] ep: 134,\tT: 2,701,\tG: 48,\tavg_r: 1,\tavg_G: 28.1,\tt: 48,\tdt: 24.900ms,\tSimpleTD/loss: 0.594,\tVanillaPG/loss: -0.0253\n"
     ]
    },
    {
     "name": "stdout",
     "output_type": "stream",
     "text": [
      "Epoch reward 48.0\n"
     ]
    },
    {
     "name": "stderr",
     "output_type": "stream",
     "text": [
      "[a2c|TrainMonitor|INFO] ep: 135,\tT: 2,755,\tG: 53,\tavg_r: 1,\tavg_G: 30.6,\tt: 53,\tdt: 24.855ms,\tSimpleTD/loss: 0.37,\tVanillaPG/loss: -0.0428\n"
     ]
    },
    {
     "name": "stdout",
     "output_type": "stream",
     "text": [
      "Epoch reward 53.0\n"
     ]
    },
    {
     "name": "stderr",
     "output_type": "stream",
     "text": [
      "[a2c|TrainMonitor|INFO] ep: 136,\tT: 2,791,\tG: 35,\tavg_r: 1,\tavg_G: 31,\tt: 35,\tdt: 25.420ms,\tSimpleTD/loss: 0.476,\tVanillaPG/loss: -0.0484\n"
     ]
    },
    {
     "name": "stdout",
     "output_type": "stream",
     "text": [
      "Epoch reward 35.0\n"
     ]
    },
    {
     "name": "stderr",
     "output_type": "stream",
     "text": [
      "[a2c|TrainMonitor|INFO] ep: 137,\tT: 2,826,\tG: 34,\tavg_r: 1,\tavg_G: 31.3,\tt: 34,\tdt: 24.795ms,\tSimpleTD/loss: 0.972,\tVanillaPG/loss: -0.225\n"
     ]
    },
    {
     "name": "stdout",
     "output_type": "stream",
     "text": [
      "Epoch reward 34.0\n"
     ]
    },
    {
     "name": "stderr",
     "output_type": "stream",
     "text": [
      "[a2c|TrainMonitor|INFO] ep: 138,\tT: 2,842,\tG: 15,\tavg_r: 1,\tavg_G: 29.7,\tt: 15,\tdt: 24.583ms,\tSimpleTD/loss: 1.46,\tVanillaPG/loss: -0.314\n"
     ]
    },
    {
     "name": "stdout",
     "output_type": "stream",
     "text": [
      "Epoch reward 15.0\n"
     ]
    },
    {
     "name": "stderr",
     "output_type": "stream",
     "text": [
      "[a2c|TrainMonitor|INFO] ep: 139,\tT: 2,878,\tG: 35,\tavg_r: 1,\tavg_G: 30.2,\tt: 35,\tdt: 25.061ms,\tSimpleTD/loss: 0.307,\tVanillaPG/loss: -0.0503\n"
     ]
    },
    {
     "name": "stdout",
     "output_type": "stream",
     "text": [
      "Epoch reward 35.0\n"
     ]
    },
    {
     "name": "stderr",
     "output_type": "stream",
     "text": [
      "[a2c|TrainMonitor|INFO] ep: 140,\tT: 2,946,\tG: 67,\tavg_r: 1,\tavg_G: 33.9,\tt: 67,\tdt: 24.655ms,\tSimpleTD/loss: 0.702,\tVanillaPG/loss: -0.00973\n"
     ]
    },
    {
     "name": "stdout",
     "output_type": "stream",
     "text": [
      "Epoch reward 67.0\n"
     ]
    },
    {
     "name": "stderr",
     "output_type": "stream",
     "text": [
      "[a2c|TrainMonitor|INFO] ep: 141,\tT: 2,985,\tG: 38,\tavg_r: 1,\tavg_G: 34.3,\tt: 38,\tdt: 24.068ms,\tSimpleTD/loss: 0.384,\tVanillaPG/loss: -0.0255\n"
     ]
    },
    {
     "name": "stdout",
     "output_type": "stream",
     "text": [
      "Epoch reward 38.0\n"
     ]
    },
    {
     "name": "stderr",
     "output_type": "stream",
     "text": [
      "[a2c|TrainMonitor|INFO] ep: 142,\tT: 3,017,\tG: 31,\tavg_r: 1,\tavg_G: 34,\tt: 31,\tdt: 25.479ms,\tSimpleTD/loss: 0.298,\tVanillaPG/loss: -0.178\n"
     ]
    },
    {
     "name": "stdout",
     "output_type": "stream",
     "text": [
      "Epoch reward 31.0\n"
     ]
    },
    {
     "name": "stderr",
     "output_type": "stream",
     "text": [
      "[a2c|TrainMonitor|INFO] ep: 143,\tT: 3,071,\tG: 53,\tavg_r: 1,\tavg_G: 35.9,\tt: 53,\tdt: 24.774ms,\tSimpleTD/loss: 0.648,\tVanillaPG/loss: -0.169\n"
     ]
    },
    {
     "name": "stdout",
     "output_type": "stream",
     "text": [
      "Epoch reward 53.0\n"
     ]
    },
    {
     "name": "stderr",
     "output_type": "stream",
     "text": [
      "[a2c|TrainMonitor|INFO] ep: 144,\tT: 3,170,\tG: 98,\tavg_r: 1,\tavg_G: 42.1,\tt: 98,\tdt: 24.618ms,\tSimpleTD/loss: 0.567,\tVanillaPG/loss: -0.268\n"
     ]
    },
    {
     "name": "stdout",
     "output_type": "stream",
     "text": [
      "Epoch reward 98.0\n"
     ]
    },
    {
     "name": "stderr",
     "output_type": "stream",
     "text": [
      "[a2c|TrainMonitor|INFO] ep: 145,\tT: 3,303,\tG: 132,\tavg_r: 1,\tavg_G: 51.1,\tt: 132,\tdt: 25.244ms,\tSimpleTD/loss: 0.998,\tVanillaPG/loss: -0.0589\n"
     ]
    },
    {
     "name": "stdout",
     "output_type": "stream",
     "text": [
      "Epoch reward 132.0\n"
     ]
    },
    {
     "name": "stderr",
     "output_type": "stream",
     "text": [
      "[a2c|TrainMonitor|INFO] ep: 146,\tT: 3,462,\tG: 158,\tavg_r: 1,\tavg_G: 61.8,\tt: 158,\tdt: 25.231ms,\tSimpleTD/loss: 0.32,\tVanillaPG/loss: -0.0575\n"
     ]
    },
    {
     "name": "stdout",
     "output_type": "stream",
     "text": [
      "Epoch reward 158.0\n"
     ]
    },
    {
     "name": "stderr",
     "output_type": "stream",
     "text": [
      "[a2c|TrainMonitor|INFO] ep: 147,\tT: 3,569,\tG: 106,\tavg_r: 1,\tavg_G: 66.2,\tt: 106,\tdt: 23.889ms,\tSimpleTD/loss: 0.223,\tVanillaPG/loss: -0.058\n"
     ]
    },
    {
     "name": "stdout",
     "output_type": "stream",
     "text": [
      "Epoch reward 106.0\n"
     ]
    },
    {
     "name": "stderr",
     "output_type": "stream",
     "text": [
      "[a2c|TrainMonitor|INFO] ep: 148,\tT: 3,674,\tG: 104,\tavg_r: 1,\tavg_G: 70,\tt: 104,\tdt: 22.983ms,\tSimpleTD/loss: 0.224,\tVanillaPG/loss: -0.134\n"
     ]
    },
    {
     "name": "stdout",
     "output_type": "stream",
     "text": [
      "Epoch reward 104.0\n"
     ]
    },
    {
     "name": "stderr",
     "output_type": "stream",
     "text": [
      "[a2c|TrainMonitor|INFO] ep: 149,\tT: 3,722,\tG: 47,\tavg_r: 1,\tavg_G: 67.7,\tt: 47,\tdt: 22.549ms,\tSimpleTD/loss: 0.301,\tVanillaPG/loss: -0.0933\n"
     ]
    },
    {
     "name": "stdout",
     "output_type": "stream",
     "text": [
      "Epoch reward 47.0\n"
     ]
    },
    {
     "name": "stderr",
     "output_type": "stream",
     "text": [
      "[a2c|TrainMonitor|INFO] ep: 150,\tT: 3,793,\tG: 70,\tavg_r: 1,\tavg_G: 67.9,\tt: 70,\tdt: 24.221ms,\tSimpleTD/loss: 0.174,\tVanillaPG/loss: -0.047\n"
     ]
    },
    {
     "name": "stdout",
     "output_type": "stream",
     "text": [
      "Epoch reward 70.0\n"
     ]
    },
    {
     "name": "stderr",
     "output_type": "stream",
     "text": [
      "[a2c|TrainMonitor|INFO] ep: 151,\tT: 3,846,\tG: 52,\tavg_r: 1,\tavg_G: 66.3,\tt: 52,\tdt: 25.055ms,\tSimpleTD/loss: 0.283,\tVanillaPG/loss: -0.139\n"
     ]
    },
    {
     "name": "stdout",
     "output_type": "stream",
     "text": [
      "Epoch reward 52.0\n"
     ]
    },
    {
     "name": "stderr",
     "output_type": "stream",
     "text": [
      "[a2c|TrainMonitor|INFO] ep: 152,\tT: 3,937,\tG: 90,\tavg_r: 1,\tavg_G: 68.7,\tt: 90,\tdt: 24.686ms,\tSimpleTD/loss: 0.142,\tVanillaPG/loss: -0.0549\n"
     ]
    },
    {
     "name": "stdout",
     "output_type": "stream",
     "text": [
      "Epoch reward 90.0\n"
     ]
    },
    {
     "name": "stderr",
     "output_type": "stream",
     "text": [
      "[a2c|TrainMonitor|INFO] ep: 153,\tT: 3,991,\tG: 53,\tavg_r: 1,\tavg_G: 67.1,\tt: 53,\tdt: 25.153ms,\tSimpleTD/loss: 0.239,\tVanillaPG/loss: -0.114\n"
     ]
    },
    {
     "name": "stdout",
     "output_type": "stream",
     "text": [
      "Epoch reward 53.0\n"
     ]
    },
    {
     "name": "stderr",
     "output_type": "stream",
     "text": [
      "[a2c|TrainMonitor|INFO] ep: 154,\tT: 4,074,\tG: 82,\tavg_r: 1,\tavg_G: 68.6,\tt: 82,\tdt: 24.977ms,\tSimpleTD/loss: 0.178,\tVanillaPG/loss: -0.137\n"
     ]
    },
    {
     "name": "stdout",
     "output_type": "stream",
     "text": [
      "Epoch reward 82.0\n"
     ]
    },
    {
     "name": "stderr",
     "output_type": "stream",
     "text": [
      "[a2c|TrainMonitor|INFO] ep: 155,\tT: 4,265,\tG: 190,\tavg_r: 1,\tavg_G: 80.7,\tt: 190,\tdt: 25.017ms,\tSimpleTD/loss: 0.355,\tVanillaPG/loss: -0.0578\n"
     ]
    },
    {
     "name": "stdout",
     "output_type": "stream",
     "text": [
      "Epoch reward 190.0\n"
     ]
    },
    {
     "name": "stderr",
     "output_type": "stream",
     "text": [
      "[a2c|TrainMonitor|INFO] ep: 156,\tT: 4,379,\tG: 113,\tavg_r: 1,\tavg_G: 84,\tt: 113,\tdt: 24.935ms,\tSimpleTD/loss: 0.273,\tVanillaPG/loss: 0.117\n"
     ]
    },
    {
     "name": "stdout",
     "output_type": "stream",
     "text": [
      "Epoch reward 113.0\n"
     ]
    },
    {
     "name": "stderr",
     "output_type": "stream",
     "text": [
      "[a2c|TrainMonitor|INFO] ep: 157,\tT: 4,580,\tG: 200,\tavg_r: 1,\tavg_G: 95.6,\tt: 200,\tdt: 24.657ms,\tSimpleTD/loss: 0.0358,\tVanillaPG/loss: -0.0218\n"
     ]
    },
    {
     "name": "stdout",
     "output_type": "stream",
     "text": [
      "Epoch reward 209.0\n"
     ]
    },
    {
     "name": "stderr",
     "output_type": "stream",
     "text": [
      "[a2c|TrainMonitor|INFO] ep: 158,\tT: 4,705,\tG: 124,\tavg_r: 1,\tavg_G: 98.4,\tt: 124,\tdt: 23.947ms,\tSimpleTD/loss: 0.372,\tVanillaPG/loss: 0.0287\n"
     ]
    },
    {
     "name": "stdout",
     "output_type": "stream",
     "text": [
      "Epoch reward 124.0\n"
     ]
    },
    {
     "name": "stderr",
     "output_type": "stream",
     "text": [
      "[a2c|TrainMonitor|INFO] ep: 159,\tT: 4,784,\tG: 78,\tavg_r: 1,\tavg_G: 96.4,\tt: 78,\tdt: 24.318ms,\tSimpleTD/loss: 0.322,\tVanillaPG/loss: 0.00258\n"
     ]
    },
    {
     "name": "stdout",
     "output_type": "stream",
     "text": [
      "Epoch reward 78.0\n"
     ]
    },
    {
     "name": "stderr",
     "output_type": "stream",
     "text": [
      "[a2c|TrainMonitor|INFO] ep: 160,\tT: 4,871,\tG: 86,\tavg_r: 1,\tavg_G: 95.3,\tt: 86,\tdt: 24.728ms,\tSimpleTD/loss: 0.41,\tVanillaPG/loss: -0.000757\n"
     ]
    },
    {
     "name": "stdout",
     "output_type": "stream",
     "text": [
      "Epoch reward 86.0\n"
     ]
    },
    {
     "name": "stderr",
     "output_type": "stream",
     "text": [
      "[a2c|TrainMonitor|INFO] ep: 161,\tT: 4,924,\tG: 52,\tavg_r: 1,\tavg_G: 91,\tt: 52,\tdt: 25.148ms,\tSimpleTD/loss: 0.413,\tVanillaPG/loss: -0.319\n"
     ]
    },
    {
     "name": "stdout",
     "output_type": "stream",
     "text": [
      "Epoch reward 52.0\n"
     ]
    },
    {
     "name": "stderr",
     "output_type": "stream",
     "text": [
      "[a2c|TrainMonitor|INFO] ep: 162,\tT: 4,995,\tG: 70,\tavg_r: 1,\tavg_G: 88.9,\tt: 70,\tdt: 25.327ms,\tSimpleTD/loss: 0.336,\tVanillaPG/loss: 0.0468\n"
     ]
    },
    {
     "name": "stdout",
     "output_type": "stream",
     "text": [
      "Epoch reward 70.0\n"
     ]
    },
    {
     "name": "stderr",
     "output_type": "stream",
     "text": [
      "[a2c|TrainMonitor|INFO] ep: 163,\tT: 5,063,\tG: 67,\tavg_r: 1,\tavg_G: 86.7,\tt: 67,\tdt: 24.842ms,\tSimpleTD/loss: 0.322,\tVanillaPG/loss: -0.0112\n"
     ]
    },
    {
     "name": "stdout",
     "output_type": "stream",
     "text": [
      "Epoch reward 67.0\n"
     ]
    },
    {
     "name": "stderr",
     "output_type": "stream",
     "text": [
      "[a2c|TrainMonitor|INFO] ep: 164,\tT: 5,127,\tG: 63,\tavg_r: 1,\tavg_G: 84.3,\tt: 63,\tdt: 25.093ms,\tSimpleTD/loss: 0.335,\tVanillaPG/loss: -0.00889\n"
     ]
    },
    {
     "name": "stdout",
     "output_type": "stream",
     "text": [
      "Epoch reward 63.0\n"
     ]
    },
    {
     "name": "stderr",
     "output_type": "stream",
     "text": [
      "[a2c|TrainMonitor|INFO] ep: 165,\tT: 5,231,\tG: 103,\tavg_r: 1,\tavg_G: 86.2,\tt: 103,\tdt: 24.510ms,\tSimpleTD/loss: 0.229,\tVanillaPG/loss: -0.129\n"
     ]
    },
    {
     "name": "stdout",
     "output_type": "stream",
     "text": [
      "Epoch reward 103.0\n"
     ]
    },
    {
     "name": "stderr",
     "output_type": "stream",
     "text": [
      "[a2c|TrainMonitor|INFO] ep: 166,\tT: 5,287,\tG: 55,\tavg_r: 1,\tavg_G: 83.1,\tt: 55,\tdt: 24.402ms,\tSimpleTD/loss: 0.26,\tVanillaPG/loss: 0.0173\n"
     ]
    },
    {
     "name": "stdout",
     "output_type": "stream",
     "text": [
      "Epoch reward 55.0\n"
     ]
    },
    {
     "name": "stderr",
     "output_type": "stream",
     "text": [
      "[a2c|TrainMonitor|INFO] ep: 167,\tT: 5,372,\tG: 84,\tavg_r: 1,\tavg_G: 83.2,\tt: 84,\tdt: 25.440ms,\tSimpleTD/loss: 0.215,\tVanillaPG/loss: 0.0213\n"
     ]
    },
    {
     "name": "stdout",
     "output_type": "stream",
     "text": [
      "Epoch reward 84.0\n"
     ]
    },
    {
     "name": "stderr",
     "output_type": "stream",
     "text": [
      "[a2c|TrainMonitor|INFO] ep: 168,\tT: 5,507,\tG: 134,\tavg_r: 1,\tavg_G: 88.3,\tt: 134,\tdt: 25.087ms,\tSimpleTD/loss: 0.148,\tVanillaPG/loss: 0.0102\n"
     ]
    },
    {
     "name": "stdout",
     "output_type": "stream",
     "text": [
      "Epoch reward 134.0\n"
     ]
    },
    {
     "name": "stderr",
     "output_type": "stream",
     "text": [
      "[a2c|TrainMonitor|INFO] ep: 169,\tT: 5,626,\tG: 118,\tavg_r: 1,\tavg_G: 91.2,\tt: 118,\tdt: 24.718ms,\tSimpleTD/loss: 0.236,\tVanillaPG/loss: 0.0179\n"
     ]
    },
    {
     "name": "stdout",
     "output_type": "stream",
     "text": [
      "Epoch reward 118.0\n"
     ]
    },
    {
     "name": "stderr",
     "output_type": "stream",
     "text": [
      "[a2c|TrainMonitor|INFO] ep: 170,\tT: 5,797,\tG: 170,\tavg_r: 1,\tavg_G: 99.1,\tt: 170,\tdt: 24.574ms,\tSimpleTD/loss: 0.116,\tVanillaPG/loss: -0.0229\n"
     ]
    },
    {
     "name": "stdout",
     "output_type": "stream",
     "text": [
      "Epoch reward 170.0\n"
     ]
    },
    {
     "name": "stderr",
     "output_type": "stream",
     "text": [
      "[a2c|TrainMonitor|INFO] ep: 171,\tT: 5,952,\tG: 154,\tavg_r: 1,\tavg_G: 105,\tt: 154,\tdt: 24.481ms,\tSimpleTD/loss: 0.312,\tVanillaPG/loss: -0.0648\n"
     ]
    },
    {
     "name": "stdout",
     "output_type": "stream",
     "text": [
      "Epoch reward 154.0\n"
     ]
    },
    {
     "name": "stderr",
     "output_type": "stream",
     "text": [
      "[a2c|TrainMonitor|INFO] ep: 172,\tT: 6,111,\tG: 158,\tavg_r: 1,\tavg_G: 110,\tt: 158,\tdt: 24.326ms,\tSimpleTD/loss: 0.287,\tVanillaPG/loss: -0.00181\n"
     ]
    },
    {
     "name": "stdout",
     "output_type": "stream",
     "text": [
      "Epoch reward 158.0\n"
     ]
    },
    {
     "name": "stderr",
     "output_type": "stream",
     "text": [
      "[a2c|TrainMonitor|INFO] ep: 173,\tT: 6,246,\tG: 134,\tavg_r: 1,\tavg_G: 112,\tt: 134,\tdt: 25.033ms,\tSimpleTD/loss: 0.397,\tVanillaPG/loss: -0.0243\n"
     ]
    },
    {
     "name": "stdout",
     "output_type": "stream",
     "text": [
      "Epoch reward 134.0\n"
     ]
    },
    {
     "name": "stderr",
     "output_type": "stream",
     "text": [
      "[a2c|TrainMonitor|INFO] ep: 174,\tT: 6,379,\tG: 132,\tavg_r: 1,\tavg_G: 114,\tt: 132,\tdt: 24.177ms,\tSimpleTD/loss: 0.276,\tVanillaPG/loss: 0.0451\n"
     ]
    },
    {
     "name": "stdout",
     "output_type": "stream",
     "text": [
      "Epoch reward 132.0\n"
     ]
    },
    {
     "name": "stderr",
     "output_type": "stream",
     "text": [
      "[a2c|TrainMonitor|INFO] ep: 175,\tT: 6,426,\tG: 46,\tavg_r: 1,\tavg_G: 107,\tt: 46,\tdt: 24.462ms,\tSimpleTD/loss: 0.756,\tVanillaPG/loss: -0.0767\n"
     ]
    },
    {
     "name": "stdout",
     "output_type": "stream",
     "text": [
      "Epoch reward 46.0\n"
     ]
    },
    {
     "name": "stderr",
     "output_type": "stream",
     "text": [
      "[a2c|TrainMonitor|INFO] ep: 176,\tT: 6,478,\tG: 51,\tavg_r: 1,\tavg_G: 102,\tt: 51,\tdt: 24.894ms,\tSimpleTD/loss: 0.391,\tVanillaPG/loss: -0.00758\n"
     ]
    },
    {
     "name": "stdout",
     "output_type": "stream",
     "text": [
      "Epoch reward 51.0\n"
     ]
    },
    {
     "name": "stderr",
     "output_type": "stream",
     "text": [
      "[a2c|TrainMonitor|INFO] ep: 177,\tT: 6,547,\tG: 68,\tavg_r: 1,\tavg_G: 98.4,\tt: 68,\tdt: 24.952ms,\tSimpleTD/loss: 0.387,\tVanillaPG/loss: 0.0195\n"
     ]
    },
    {
     "name": "stdout",
     "output_type": "stream",
     "text": [
      "Epoch reward 68.0\n"
     ]
    },
    {
     "name": "stderr",
     "output_type": "stream",
     "text": [
      "[a2c|TrainMonitor|INFO] ep: 178,\tT: 6,607,\tG: 59,\tavg_r: 1,\tavg_G: 94.5,\tt: 59,\tdt: 24.677ms,\tSimpleTD/loss: 0.364,\tVanillaPG/loss: -0.0215\n"
     ]
    },
    {
     "name": "stdout",
     "output_type": "stream",
     "text": [
      "Epoch reward 59.0\n"
     ]
    },
    {
     "name": "stderr",
     "output_type": "stream",
     "text": [
      "[a2c|TrainMonitor|INFO] ep: 179,\tT: 6,671,\tG: 63,\tavg_r: 1,\tavg_G: 91.4,\tt: 63,\tdt: 24.376ms,\tSimpleTD/loss: 0.374,\tVanillaPG/loss: -0.00874\n"
     ]
    },
    {
     "name": "stdout",
     "output_type": "stream",
     "text": [
      "Epoch reward 63.0\n"
     ]
    },
    {
     "name": "stderr",
     "output_type": "stream",
     "text": [
      "[a2c|TrainMonitor|INFO] ep: 180,\tT: 6,709,\tG: 37,\tavg_r: 1,\tavg_G: 85.9,\tt: 37,\tdt: 24.341ms,\tSimpleTD/loss: 0.688,\tVanillaPG/loss: 0.0254\n"
     ]
    },
    {
     "name": "stdout",
     "output_type": "stream",
     "text": [
      "Epoch reward 37.0\n"
     ]
    },
    {
     "name": "stderr",
     "output_type": "stream",
     "text": [
      "[a2c|TrainMonitor|INFO] ep: 181,\tT: 6,752,\tG: 42,\tavg_r: 1,\tavg_G: 81.5,\tt: 42,\tdt: 25.280ms,\tSimpleTD/loss: 0.461,\tVanillaPG/loss: -0.228\n"
     ]
    },
    {
     "name": "stdout",
     "output_type": "stream",
     "text": [
      "Epoch reward 42.0\n"
     ]
    },
    {
     "name": "stderr",
     "output_type": "stream",
     "text": [
      "[a2c|TrainMonitor|INFO] ep: 182,\tT: 6,813,\tG: 60,\tavg_r: 1,\tavg_G: 79.4,\tt: 60,\tdt: 25.134ms,\tSimpleTD/loss: 0.235,\tVanillaPG/loss: 0.0734\n"
     ]
    },
    {
     "name": "stdout",
     "output_type": "stream",
     "text": [
      "Epoch reward 60.0\n"
     ]
    },
    {
     "name": "stderr",
     "output_type": "stream",
     "text": [
      "[a2c|TrainMonitor|INFO] ep: 183,\tT: 6,893,\tG: 79,\tavg_r: 1,\tavg_G: 79.3,\tt: 79,\tdt: 24.458ms,\tSimpleTD/loss: 0.23,\tVanillaPG/loss: 0.0146\n"
     ]
    },
    {
     "name": "stdout",
     "output_type": "stream",
     "text": [
      "Epoch reward 79.0\n"
     ]
    },
    {
     "name": "stderr",
     "output_type": "stream",
     "text": [
      "[a2c|TrainMonitor|INFO] ep: 184,\tT: 6,951,\tG: 57,\tavg_r: 1,\tavg_G: 77.1,\tt: 57,\tdt: 24.279ms,\tSimpleTD/loss: 0.341,\tVanillaPG/loss: 0.0138\n"
     ]
    },
    {
     "name": "stdout",
     "output_type": "stream",
     "text": [
      "Epoch reward 57.0\n"
     ]
    },
    {
     "name": "stderr",
     "output_type": "stream",
     "text": [
      "[a2c|TrainMonitor|INFO] ep: 185,\tT: 7,015,\tG: 63,\tavg_r: 1,\tavg_G: 75.7,\tt: 63,\tdt: 25.457ms,\tSimpleTD/loss: 0.231,\tVanillaPG/loss: 0.00572\n"
     ]
    },
    {
     "name": "stdout",
     "output_type": "stream",
     "text": [
      "Epoch reward 63.0\n"
     ]
    },
    {
     "name": "stderr",
     "output_type": "stream",
     "text": [
      "[a2c|TrainMonitor|INFO] ep: 186,\tT: 7,085,\tG: 69,\tavg_r: 1,\tavg_G: 75,\tt: 69,\tdt: 24.532ms,\tSimpleTD/loss: 0.208,\tVanillaPG/loss: 0.0565\n"
     ]
    },
    {
     "name": "stdout",
     "output_type": "stream",
     "text": [
      "Epoch reward 69.0\n"
     ]
    },
    {
     "name": "stderr",
     "output_type": "stream",
     "text": [
      "[a2c|TrainMonitor|INFO] ep: 187,\tT: 7,163,\tG: 77,\tavg_r: 1,\tavg_G: 75.2,\tt: 77,\tdt: 25.279ms,\tSimpleTD/loss: 0.179,\tVanillaPG/loss: -0.166\n"
     ]
    },
    {
     "name": "stdout",
     "output_type": "stream",
     "text": [
      "Epoch reward 77.0\n"
     ]
    },
    {
     "name": "stderr",
     "output_type": "stream",
     "text": [
      "[a2c|TrainMonitor|INFO] ep: 188,\tT: 7,302,\tG: 138,\tavg_r: 1,\tavg_G: 81.5,\tt: 138,\tdt: 24.422ms,\tSimpleTD/loss: 0.348,\tVanillaPG/loss: -0.0276\n"
     ]
    },
    {
     "name": "stdout",
     "output_type": "stream",
     "text": [
      "Epoch reward 138.0\n"
     ]
    },
    {
     "name": "stderr",
     "output_type": "stream",
     "text": [
      "[a2c|TrainMonitor|INFO] ep: 189,\tT: 7,458,\tG: 155,\tavg_r: 1,\tavg_G: 88.8,\tt: 155,\tdt: 24.899ms,\tSimpleTD/loss: 0.164,\tVanillaPG/loss: 0.00325\n"
     ]
    },
    {
     "name": "stdout",
     "output_type": "stream",
     "text": [
      "Epoch reward 155.0\n"
     ]
    },
    {
     "name": "stderr",
     "output_type": "stream",
     "text": [
      "[a2c|TrainMonitor|INFO] ep: 190,\tT: 7,553,\tG: 94,\tavg_r: 1,\tavg_G: 89.4,\tt: 94,\tdt: 24.840ms,\tSimpleTD/loss: 0.229,\tVanillaPG/loss: -0.00887\n"
     ]
    },
    {
     "name": "stdout",
     "output_type": "stream",
     "text": [
      "Epoch reward 94.0\n"
     ]
    },
    {
     "name": "stderr",
     "output_type": "stream",
     "text": [
      "[a2c|TrainMonitor|INFO] ep: 191,\tT: 7,672,\tG: 118,\tavg_r: 1,\tavg_G: 92.2,\tt: 118,\tdt: 24.589ms,\tSimpleTD/loss: 0.145,\tVanillaPG/loss: -0.00671\n"
     ]
    },
    {
     "name": "stdout",
     "output_type": "stream",
     "text": [
      "Epoch reward 118.0\n"
     ]
    },
    {
     "name": "stderr",
     "output_type": "stream",
     "text": [
      "[a2c|TrainMonitor|INFO] ep: 192,\tT: 7,873,\tG: 200,\tavg_r: 1,\tavg_G: 103,\tt: 200,\tdt: 24.943ms,\tSimpleTD/loss: 0.0899,\tVanillaPG/loss: -0.013\n"
     ]
    },
    {
     "name": "stdout",
     "output_type": "stream",
     "text": [
      "Epoch reward 209.0\n"
     ]
    },
    {
     "name": "stderr",
     "output_type": "stream",
     "text": [
      "[a2c|TrainMonitor|INFO] ep: 193,\tT: 7,938,\tG: 64,\tavg_r: 1,\tavg_G: 99.1,\tt: 64,\tdt: 24.477ms,\tSimpleTD/loss: 0.636,\tVanillaPG/loss: -0.0745\n"
     ]
    },
    {
     "name": "stdout",
     "output_type": "stream",
     "text": [
      "Epoch reward 64.0\n"
     ]
    },
    {
     "name": "stderr",
     "output_type": "stream",
     "text": [
      "[a2c|TrainMonitor|INFO] ep: 194,\tT: 8,014,\tG: 75,\tavg_r: 1,\tavg_G: 96.7,\tt: 75,\tdt: 24.943ms,\tSimpleTD/loss: 0.29,\tVanillaPG/loss: 0.0164\n"
     ]
    },
    {
     "name": "stdout",
     "output_type": "stream",
     "text": [
      "Epoch reward 75.0\n"
     ]
    },
    {
     "name": "stderr",
     "output_type": "stream",
     "text": [
      "[a2c|TrainMonitor|INFO] ep: 195,\tT: 8,115,\tG: 100,\tavg_r: 1,\tavg_G: 97,\tt: 100,\tdt: 25.507ms,\tSimpleTD/loss: 0.31,\tVanillaPG/loss: 0.0261\n"
     ]
    },
    {
     "name": "stdout",
     "output_type": "stream",
     "text": [
      "Epoch reward 100.0\n"
     ]
    },
    {
     "name": "stderr",
     "output_type": "stream",
     "text": [
      "[a2c|TrainMonitor|INFO] ep: 196,\tT: 8,316,\tG: 200,\tavg_r: 1,\tavg_G: 107,\tt: 200,\tdt: 24.623ms,\tSimpleTD/loss: 0.00594,\tVanillaPG/loss: 0.0156\n"
     ]
    },
    {
     "name": "stdout",
     "output_type": "stream",
     "text": [
      "Epoch reward 209.0\n"
     ]
    },
    {
     "name": "stderr",
     "output_type": "stream",
     "text": [
      "[a2c|TrainMonitor|INFO] ep: 197,\tT: 8,459,\tG: 142,\tavg_r: 1,\tavg_G: 111,\tt: 142,\tdt: 22.785ms,\tSimpleTD/loss: 0.284,\tVanillaPG/loss: -0.0288\n"
     ]
    },
    {
     "name": "stdout",
     "output_type": "stream",
     "text": [
      "Epoch reward 142.0\n"
     ]
    },
    {
     "name": "stderr",
     "output_type": "stream",
     "text": [
      "[a2c|TrainMonitor|INFO] ep: 198,\tT: 8,660,\tG: 200,\tavg_r: 1,\tavg_G: 120,\tt: 200,\tdt: 24.641ms,\tSimpleTD/loss: 0.00686,\tVanillaPG/loss: 0.00417\n"
     ]
    },
    {
     "name": "stdout",
     "output_type": "stream",
     "text": [
      "Epoch reward 209.0\n"
     ]
    },
    {
     "name": "stderr",
     "output_type": "stream",
     "text": [
      "[a2c|TrainMonitor|INFO] ep: 199,\tT: 8,861,\tG: 200,\tavg_r: 1,\tavg_G: 128,\tt: 200,\tdt: 24.379ms,\tSimpleTD/loss: 0.00563,\tVanillaPG/loss: -0.00486\n"
     ]
    },
    {
     "name": "stdout",
     "output_type": "stream",
     "text": [
      "Epoch reward 209.0\n"
     ]
    },
    {
     "name": "stderr",
     "output_type": "stream",
     "text": [
      "[a2c|TrainMonitor|INFO] ep: 200,\tT: 9,062,\tG: 200,\tavg_r: 1,\tavg_G: 135,\tt: 200,\tdt: 23.140ms,\tSimpleTD/loss: 0.00409,\tVanillaPG/loss: -0.0162\n"
     ]
    },
    {
     "name": "stdout",
     "output_type": "stream",
     "text": [
      "Epoch reward 209.0\n"
     ]
    },
    {
     "name": "stderr",
     "output_type": "stream",
     "text": [
      "[a2c|TrainMonitor|INFO] ep: 201,\tT: 9,263,\tG: 200,\tavg_r: 1,\tavg_G: 141,\tt: 200,\tdt: 23.989ms,\tSimpleTD/loss: 0.00692,\tVanillaPG/loss: -0.0271\n"
     ]
    },
    {
     "name": "stdout",
     "output_type": "stream",
     "text": [
      "Epoch reward 209.0\n"
     ]
    },
    {
     "name": "stderr",
     "output_type": "stream",
     "text": [
      "[a2c|TrainMonitor|INFO] ep: 202,\tT: 9,464,\tG: 200,\tavg_r: 1,\tavg_G: 147,\tt: 200,\tdt: 23.978ms,\tSimpleTD/loss: 0.00631,\tVanillaPG/loss: 0.0117\n"
     ]
    },
    {
     "name": "stdout",
     "output_type": "stream",
     "text": [
      "Epoch reward 209.0\n"
     ]
    },
    {
     "name": "stderr",
     "output_type": "stream",
     "text": [
      "[a2c|TrainMonitor|INFO] ep: 203,\tT: 9,644,\tG: 179,\tavg_r: 1,\tavg_G: 150,\tt: 179,\tdt: 24.770ms,\tSimpleTD/loss: 0.185,\tVanillaPG/loss: -0.00598\n"
     ]
    },
    {
     "name": "stdout",
     "output_type": "stream",
     "text": [
      "Epoch reward 179.0\n"
     ]
    },
    {
     "name": "stderr",
     "output_type": "stream",
     "text": [
      "[a2c|TrainMonitor|INFO] ep: 204,\tT: 9,845,\tG: 200,\tavg_r: 1,\tavg_G: 155,\tt: 200,\tdt: 23.626ms,\tSimpleTD/loss: 0.00938,\tVanillaPG/loss: 0.00832\n"
     ]
    },
    {
     "name": "stdout",
     "output_type": "stream",
     "text": [
      "Epoch reward 209.0\n"
     ]
    },
    {
     "name": "stderr",
     "output_type": "stream",
     "text": [
      "[a2c|TrainMonitor|INFO] ep: 205,\tT: 10,046,\tG: 200,\tavg_r: 1,\tavg_G: 160,\tt: 200,\tdt: 24.512ms,\tSimpleTD/loss: 0.00495,\tVanillaPG/loss: -0.0268\n"
     ]
    },
    {
     "name": "stdout",
     "output_type": "stream",
     "text": [
      "Epoch reward 209.0\n"
     ]
    },
    {
     "name": "stderr",
     "output_type": "stream",
     "text": [
      "[a2c|TrainMonitor|INFO] ep: 206,\tT: 10,247,\tG: 200,\tavg_r: 1,\tavg_G: 164,\tt: 200,\tdt: 24.271ms,\tSimpleTD/loss: 0.00146,\tVanillaPG/loss: -0.0135\n"
     ]
    },
    {
     "name": "stdout",
     "output_type": "stream",
     "text": [
      "Epoch reward 209.0\n"
     ]
    },
    {
     "name": "stderr",
     "output_type": "stream",
     "text": [
      "[a2c|TrainMonitor|INFO] ep: 207,\tT: 10,448,\tG: 200,\tavg_r: 1,\tavg_G: 168,\tt: 200,\tdt: 24.325ms,\tSimpleTD/loss: 0.00935,\tVanillaPG/loss: -0.0236\n"
     ]
    },
    {
     "name": "stdout",
     "output_type": "stream",
     "text": [
      "Epoch reward 209.0\n"
     ]
    },
    {
     "name": "stderr",
     "output_type": "stream",
     "text": [
      "[a2c|TrainMonitor|INFO] ep: 208,\tT: 10,649,\tG: 200,\tavg_r: 1,\tavg_G: 171,\tt: 200,\tdt: 24.641ms,\tSimpleTD/loss: 0.00365,\tVanillaPG/loss: -0.021\n"
     ]
    },
    {
     "name": "stdout",
     "output_type": "stream",
     "text": [
      "Epoch reward 209.0\n"
     ]
    },
    {
     "name": "stderr",
     "output_type": "stream",
     "text": [
      "[a2c|TrainMonitor|INFO] ep: 209,\tT: 10,850,\tG: 200,\tavg_r: 1,\tavg_G: 174,\tt: 200,\tdt: 24.243ms,\tSimpleTD/loss: 0.0298,\tVanillaPG/loss: -0.00213\n"
     ]
    },
    {
     "name": "stdout",
     "output_type": "stream",
     "text": [
      "Epoch reward 209.0\n"
     ]
    },
    {
     "name": "stderr",
     "output_type": "stream",
     "text": [
      "[a2c|TrainMonitor|INFO] ep: 210,\tT: 11,027,\tG: 176,\tavg_r: 1,\tavg_G: 174,\tt: 176,\tdt: 24.426ms,\tSimpleTD/loss: 0.198,\tVanillaPG/loss: -0.00269\n"
     ]
    },
    {
     "name": "stdout",
     "output_type": "stream",
     "text": [
      "Epoch reward 176.0\n"
     ]
    },
    {
     "name": "stderr",
     "output_type": "stream",
     "text": [
      "[a2c|TrainMonitor|INFO] ep: 211,\tT: 11,228,\tG: 200,\tavg_r: 1,\tavg_G: 177,\tt: 200,\tdt: 24.719ms,\tSimpleTD/loss: 0.0194,\tVanillaPG/loss: 0.0137\n"
     ]
    },
    {
     "name": "stdout",
     "output_type": "stream",
     "text": [
      "Epoch reward 209.0\n"
     ]
    },
    {
     "name": "stderr",
     "output_type": "stream",
     "text": [
      "[a2c|TrainMonitor|INFO] ep: 212,\tT: 11,412,\tG: 183,\tavg_r: 1,\tavg_G: 177,\tt: 183,\tdt: 22.687ms,\tSimpleTD/loss: 0.242,\tVanillaPG/loss: -0.0436\n"
     ]
    },
    {
     "name": "stdout",
     "output_type": "stream",
     "text": [
      "Epoch reward 183.0\n"
     ]
    },
    {
     "name": "stderr",
     "output_type": "stream",
     "text": [
      "[a2c|TrainMonitor|INFO] ep: 213,\tT: 11,606,\tG: 193,\tavg_r: 1,\tavg_G: 179,\tt: 193,\tdt: 24.315ms,\tSimpleTD/loss: 0.21,\tVanillaPG/loss: -0.00417\n"
     ]
    },
    {
     "name": "stdout",
     "output_type": "stream",
     "text": [
      "Epoch reward 193.0\n"
     ]
    },
    {
     "name": "stderr",
     "output_type": "stream",
     "text": [
      "[a2c|TrainMonitor|INFO] ep: 214,\tT: 11,807,\tG: 200,\tavg_r: 1,\tavg_G: 181,\tt: 200,\tdt: 24.586ms,\tSimpleTD/loss: 0.0294,\tVanillaPG/loss: 0.0109\n"
     ]
    },
    {
     "name": "stdout",
     "output_type": "stream",
     "text": [
      "Epoch reward 209.0\n"
     ]
    },
    {
     "name": "stderr",
     "output_type": "stream",
     "text": [
      "[a2c|TrainMonitor|INFO] ep: 215,\tT: 12,008,\tG: 200,\tavg_r: 1,\tavg_G: 183,\tt: 200,\tdt: 24.546ms,\tSimpleTD/loss: 0.000358,\tVanillaPG/loss: -0.00545\n"
     ]
    },
    {
     "name": "stdout",
     "output_type": "stream",
     "text": [
      "Epoch reward 209.0\n"
     ]
    },
    {
     "name": "stderr",
     "output_type": "stream",
     "text": [
      "[a2c|TrainMonitor|INFO] ep: 216,\tT: 12,209,\tG: 200,\tavg_r: 1,\tavg_G: 185,\tt: 200,\tdt: 24.888ms,\tSimpleTD/loss: 0.000289,\tVanillaPG/loss: 0.00142\n"
     ]
    },
    {
     "name": "stdout",
     "output_type": "stream",
     "text": [
      "Epoch reward 209.0\n"
     ]
    },
    {
     "name": "stderr",
     "output_type": "stream",
     "text": [
      "[a2c|TrainMonitor|INFO] ep: 217,\tT: 12,410,\tG: 200,\tavg_r: 1,\tavg_G: 186,\tt: 200,\tdt: 24.631ms,\tSimpleTD/loss: 0.000396,\tVanillaPG/loss: -0.00588\n"
     ]
    },
    {
     "name": "stdout",
     "output_type": "stream",
     "text": [
      "Epoch reward 209.0\n"
     ]
    },
    {
     "name": "stderr",
     "output_type": "stream",
     "text": [
      "[a2c|TrainMonitor|INFO] ep: 218,\tT: 12,611,\tG: 200,\tavg_r: 1,\tavg_G: 187,\tt: 200,\tdt: 24.100ms,\tSimpleTD/loss: 0.000251,\tVanillaPG/loss: -0.00189\n"
     ]
    },
    {
     "name": "stdout",
     "output_type": "stream",
     "text": [
      "Epoch reward 209.0\n"
     ]
    },
    {
     "name": "stderr",
     "output_type": "stream",
     "text": [
      "[a2c|TrainMonitor|INFO] ep: 219,\tT: 12,812,\tG: 200,\tavg_r: 1,\tavg_G: 189,\tt: 200,\tdt: 24.654ms,\tSimpleTD/loss: 0.000185,\tVanillaPG/loss: -0.00222\n"
     ]
    },
    {
     "name": "stdout",
     "output_type": "stream",
     "text": [
      "Epoch reward 209.0\n"
     ]
    },
    {
     "name": "stderr",
     "output_type": "stream",
     "text": [
      "[a2c|TrainMonitor|INFO] ep: 220,\tT: 13,013,\tG: 200,\tavg_r: 1,\tavg_G: 190,\tt: 200,\tdt: 24.510ms,\tSimpleTD/loss: 0.000401,\tVanillaPG/loss: 0.00188\n"
     ]
    },
    {
     "name": "stdout",
     "output_type": "stream",
     "text": [
      "Epoch reward 209.0\n"
     ]
    },
    {
     "name": "stderr",
     "output_type": "stream",
     "text": [
      "[a2c|TrainMonitor|INFO] ep: 221,\tT: 13,214,\tG: 200,\tavg_r: 1,\tavg_G: 191,\tt: 200,\tdt: 24.873ms,\tSimpleTD/loss: 0.000559,\tVanillaPG/loss: -0.00644\n"
     ]
    },
    {
     "name": "stdout",
     "output_type": "stream",
     "text": [
      "Epoch reward 209.0\n"
     ]
    },
    {
     "name": "stderr",
     "output_type": "stream",
     "text": [
      "[a2c|TrainMonitor|INFO] ep: 222,\tT: 13,415,\tG: 200,\tavg_r: 1,\tavg_G: 192,\tt: 200,\tdt: 22.943ms,\tSimpleTD/loss: 0.00023,\tVanillaPG/loss: 0.000652\n"
     ]
    },
    {
     "name": "stdout",
     "output_type": "stream",
     "text": [
      "Epoch reward 209.0\n"
     ]
    },
    {
     "name": "stderr",
     "output_type": "stream",
     "text": [
      "[a2c|TrainMonitor|INFO] ep: 223,\tT: 13,616,\tG: 200,\tavg_r: 1,\tavg_G: 193,\tt: 200,\tdt: 24.840ms,\tSimpleTD/loss: 8.13e-05,\tVanillaPG/loss: -0.000253\n"
     ]
    },
    {
     "name": "stdout",
     "output_type": "stream",
     "text": [
      "Epoch reward 209.0\n"
     ]
    },
    {
     "name": "stderr",
     "output_type": "stream",
     "text": [
      "[a2c|TrainMonitor|INFO] ep: 224,\tT: 13,817,\tG: 200,\tavg_r: 1,\tavg_G: 193,\tt: 200,\tdt: 24.640ms,\tSimpleTD/loss: 0.00141,\tVanillaPG/loss: -0.000934\n"
     ]
    },
    {
     "name": "stdout",
     "output_type": "stream",
     "text": [
      "Epoch reward 209.0\n"
     ]
    },
    {
     "name": "stderr",
     "output_type": "stream",
     "text": [
      "[a2c|TrainMonitor|INFO] ep: 225,\tT: 14,018,\tG: 200,\tavg_r: 1,\tavg_G: 194,\tt: 200,\tdt: 24.688ms,\tSimpleTD/loss: 0.000692,\tVanillaPG/loss: -0.0022\n"
     ]
    },
    {
     "name": "stdout",
     "output_type": "stream",
     "text": [
      "Epoch reward 209.0\n"
     ]
    },
    {
     "name": "stderr",
     "output_type": "stream",
     "text": [
      "[a2c|TrainMonitor|INFO] ep: 226,\tT: 14,219,\tG: 200,\tavg_r: 1,\tavg_G: 195,\tt: 200,\tdt: 22.953ms,\tSimpleTD/loss: 0.000393,\tVanillaPG/loss: -0.00264\n"
     ]
    },
    {
     "name": "stdout",
     "output_type": "stream",
     "text": [
      "Epoch reward 209.0\n",
      "Epoch reward 209.0\n"
     ]
    }
   ],
   "source": [
    "# experience tracer\n",
    "tracer = coax.reward_tracing.NStep(n=1, gamma=0.9)\n",
    "\n",
    "# updaters\n",
    "vanilla_pg = coax.policy_objectives.VanillaPG(pi, optimizer=optimizer_pi)\n",
    "simple_td = coax.td_learning.SimpleTD(v, loss_function=mse, optimizer=optimizer_v)\n",
    "\n",
    "\n",
    "# train\n",
    "for ep in range(1000):\n",
    "    s = env.reset()\n",
    "    er = 0\n",
    "    for t in range(env.spec.max_episode_steps):\n",
    "        a = pi(s)\n",
    "        s_next, r, done, info = env.step(a)\n",
    "        \n",
    "        if done and (t == env.spec.max_episode_steps - 1):\n",
    "            r = 1 / (1 - tracer.gamma)\n",
    "        er+=r\n",
    "        tracer.add(s, a, r, done)\n",
    "        while tracer:\n",
    "            transition_batch = tracer.pop()\n",
    "            metrics_v, td_error = simple_td.update(transition_batch, return_td_error=True)\n",
    "            metrics_pi = vanilla_pg.update(transition_batch, td_error)\n",
    "            env.record_metrics(metrics_v)\n",
    "            env.record_metrics(metrics_pi)\n",
    "\n",
    "        if done:\n",
    "            break\n",
    "\n",
    "        s = s_next\n",
    "    \n",
    "    print(\"Epoch reward\",er)\n",
    "    # early stopping\n",
    "    if env.avg_G > env.spec.reward_threshold:\n",
    "        break\n",
    "\n",
    "\n",
    "# run env one more time to render\n",
    "#coax.utils.generate_gif(env, policy=pi, filepath=f\"./data/{name}.gif\", duration=25)"
   ]
  },
  {
   "cell_type": "code",
   "execution_count": null,
   "metadata": {},
   "outputs": [],
   "source": []
  },
  {
   "cell_type": "code",
   "execution_count": 10,
   "metadata": {},
   "outputs": [],
   "source": [
    "coax.utils.dump(pi, \"./mlp_pi.lz4\")"
   ]
  },
  {
   "cell_type": "code",
   "execution_count": 16,
   "metadata": {},
   "outputs": [
    {
     "data": {
      "text/plain": [
       "FlatMapping({\n",
       "  'linear': FlatMapping({\n",
       "              'b': DeviceArray([-0.00078749,  0.22243674,  0.24990653,  0.25380114,\n",
       "                                 0.01685529,  0.02420999,  0.35115007,  0.05400022,\n",
       "                                 0.21136887,  0.29219517,  0.18837172,  0.22474289,\n",
       "                                 0.00078776,  0.11020071,  0.35213456,  0.19622795],            dtype=float32),\n",
       "              'w': DeviceArray([[-0.03512973,  0.05438015, -0.36982128,  0.09777525,\n",
       "                                 -0.20791632,  0.21831983,  0.05427854,  0.16727945,\n",
       "                                  0.2172411 ,  0.3122285 , -0.5020807 ,  0.42083606,\n",
       "                                  0.40071788, -0.6656895 , -0.8764311 , -0.28065702],\n",
       "                                [-0.27200034, -0.08180515,  0.194785  ,  0.78121173,\n",
       "                                 -0.86986077, -0.45019484,  0.62767553, -0.7282137 ,\n",
       "                                 -0.26940435, -0.37256098, -0.19365811, -0.56482714,\n",
       "                                  1.0171323 , -0.08690273,  0.15433046,  0.18701562],\n",
       "                                [-0.89545184,  1.047479  , -0.30712223, -1.0112432 ,\n",
       "                                  0.87866664,  0.13928841, -0.08219857,  0.3294781 ,\n",
       "                                 -0.7411986 , -0.80468243, -0.04578631, -0.3618525 ,\n",
       "                                 -0.01613511, -0.39490125, -0.8581307 , -0.8450079 ],\n",
       "                                [-0.42395437,  0.36034626, -1.11832   , -0.85583186,\n",
       "                                  0.35714576,  0.14597851,  0.7812778 ,  0.17383954,\n",
       "                                 -0.42900696, -0.61298406,  0.7433855 , -0.54491895,\n",
       "                                 -0.48825067,  0.4896192 , -1.275772  , -0.95431185]],            dtype=float32),\n",
       "            }),\n",
       "  'linear_1': FlatMapping({\n",
       "                'b': DeviceArray([-0.05304641,  0.27527857,  0.09865921,  0.15581949,\n",
       "                                  -0.09085984,  0.21192172,  0.21861884,  0.09459148,\n",
       "                                   0.0729344 ,  0.        , -0.0285222 ,  0.229616  ,\n",
       "                                   0.23170686, -0.05938   ,  0.21036616, -0.02048233],            dtype=float32),\n",
       "                'w': DeviceArray([[-0.06556073, -0.18813741,  0.16493294,  0.07327092,\n",
       "                                   -0.04106306,  0.24733017, -0.6670855 ,  0.4327468 ,\n",
       "                                    0.24415785, -0.09044596, -0.11511075,  0.10421174,\n",
       "                                   -0.09712969, -0.10748747, -0.41200718, -0.09070774],\n",
       "                                  [-0.24167672,  0.41659608, -0.10626302, -0.4172539 ,\n",
       "                                   -0.2814826 ,  0.6081469 ,  0.27943406, -0.13704929,\n",
       "                                   -0.19213793, -0.05634058, -0.13394895, -0.09906153,\n",
       "                                    0.28506833,  0.18777293,  0.668604  , -0.22812718],\n",
       "                                  [-0.08836193,  0.00457488,  0.39570653,  0.4267281 ,\n",
       "                                   -0.08720051,  0.17994997, -0.32249436, -0.2699646 ,\n",
       "                                    0.357707  , -0.3698201 , -0.36970305,  0.5623638 ,\n",
       "                                   -0.26390058,  0.25563645, -0.12370877,  0.0505844 ],\n",
       "                                  [ 0.0876291 , -0.06333251,  0.35861754,  0.15562335,\n",
       "                                   -0.10425661,  0.10957491, -0.562173  ,  0.1432255 ,\n",
       "                                   -0.00099452, -0.15246747, -0.41022122,  0.09702627,\n",
       "                                    0.31993592,  0.00772829, -0.09580426, -0.1472855 ],\n",
       "                                  [ 0.03002041,  0.28108057, -0.11804054,  0.15819693,\n",
       "                                    0.01167541, -0.19589272,  0.11229429,  0.00948919,\n",
       "                                    0.17716305, -0.34945264, -0.1918272 ,  0.03787529,\n",
       "                                   -0.03670862, -0.05257154,  0.22213453,  0.13769796],\n",
       "                                  [-0.2583881 , -0.46001527, -0.00658782, -0.07509299,\n",
       "                                    0.28260595, -0.03729963, -0.07552717,  0.05660027,\n",
       "                                    0.16284177,  0.13252363,  0.04840069,  0.3385232 ,\n",
       "                                    0.2016304 ,  0.04062438, -0.23989803,  0.05891401],\n",
       "                                  [-0.2907541 ,  0.18026815, -0.3711628 ,  0.20449047,\n",
       "                                    0.25936028,  0.29647088,  0.04284133,  0.28818628,\n",
       "                                    0.02362922, -0.2337324 ,  0.07929869, -0.5425025 ,\n",
       "                                    0.86377054, -0.32124457,  0.677408  , -0.14256087],\n",
       "                                  [ 0.14421812,  0.02762853,  0.23390955,  0.5532331 ,\n",
       "                                    0.1084758 , -0.07661574,  0.1915506 ,  0.14036314,\n",
       "                                    0.12819427, -0.13645853, -0.23972923,  0.0013723 ,\n",
       "                                   -0.03610273, -0.21384902,  0.25914785, -0.04331645],\n",
       "                                  [-0.18577889, -0.337537  ,  0.47310516,  0.17888407,\n",
       "                                   -0.36919746,  0.28908557, -0.62116545, -0.13771845,\n",
       "                                   -0.03983434,  0.3101414 , -0.14253765,  0.7012235 ,\n",
       "                                    0.01966072, -0.19142161, -0.5222126 ,  0.03993191],\n",
       "                                  [ 0.28076687, -0.08011629,  0.28153253,  0.7368762 ,\n",
       "                                    0.01585939,  0.1543296 , -0.32273957, -0.40419716,\n",
       "                                   -0.20992139,  0.09605402, -0.02316908,  0.6542645 ,\n",
       "                                   -0.47304508,  0.24481194, -0.151323  ,  0.23668891],\n",
       "                                  [-0.28431273,  0.3642643 ,  0.0844506 ,  0.08505029,\n",
       "                                   -0.11112823,  0.07761674,  0.28722262,  0.36142787,\n",
       "                                    0.07409167, -0.27802184, -0.21760412, -0.04067259,\n",
       "                                    0.3733805 ,  0.4137612 ,  0.39018   , -0.47891235],\n",
       "                                  [ 0.03854637, -0.3612212 ,  0.11703106,  0.66936487,\n",
       "                                    0.31063095, -0.37449524, -0.28736606,  0.08672889,\n",
       "                                    0.14325647, -0.17826597, -0.23263474,  0.35380113,\n",
       "                                   -0.24538293, -0.2482271 , -0.08374614, -0.2424834 ],\n",
       "                                  [-0.00692053,  0.47909972, -0.33827332, -0.30110478,\n",
       "                                   -0.20222148,  0.15301266, -0.17355242,  0.20984231,\n",
       "                                    0.38436642, -0.03774929, -0.06524346, -0.343419  ,\n",
       "                                    0.3262213 , -0.11114312,  0.11204334, -0.21338446],\n",
       "                                  [ 0.0578081 ,  0.48122862, -0.21655524, -0.03348418,\n",
       "                                    0.16572812,  0.41595283,  0.5727841 , -0.07287166,\n",
       "                                    0.25695118,  0.0268322 , -0.19523513, -0.21308714,\n",
       "                                    0.08131785, -0.2720457 ,  0.5368966 , -0.39033163],\n",
       "                                  [-0.17076062, -0.56009495,  0.7448345 ,  0.317515  ,\n",
       "                                   -0.1158433 , -0.13211018, -0.14575571, -0.05003252,\n",
       "                                    0.34713438, -0.09246522, -0.05275882,  0.6376054 ,\n",
       "                                   -0.40636703, -0.27614844, -0.3780379 , -0.16462003],\n",
       "                                  [-0.27130184, -0.30048186,  0.577608  ,  0.42380095,\n",
       "                                    0.15437582, -0.04225172, -0.03754997, -0.05236297,\n",
       "                                   -0.17986238, -0.16705368, -0.05682925,  0.50631136,\n",
       "                                   -0.49298432, -0.00974507, -0.32314223, -0.09802449]],            dtype=float32),\n",
       "              }),\n",
       "  'linear_2': FlatMapping({\n",
       "                'b': DeviceArray([ 0.23982458,  0.15185204, -0.01973422,  0.09664522,\n",
       "                                   0.05447241,  0.        ,  0.        ,  0.00697144,\n",
       "                                   0.09289808,  0.05175449,  0.19028524,  0.00038132,\n",
       "                                   0.11215447,  0.20376386,  0.29298878,  0.12153289],            dtype=float32),\n",
       "                'w': DeviceArray([[ 1.47648558e-01, -1.83218554e-01,  1.06988922e-01,\n",
       "                                    1.23987623e-01,  1.47735268e-01, -4.82628137e-01,\n",
       "                                   -3.72355759e-01, -3.73812258e-01, -1.35193989e-01,\n",
       "                                   -8.79680738e-02, -9.56788063e-02,  2.35924631e-01,\n",
       "                                    7.91199505e-02, -1.80178687e-01,  2.47130230e-01,\n",
       "                                    3.29320997e-01],\n",
       "                                  [ 2.55751133e-01,  2.60756344e-01, -1.37993649e-01,\n",
       "                                    7.08633736e-02,  6.11531734e-01,  2.19395503e-01,\n",
       "                                   -3.48625004e-01,  5.25724173e-01, -1.73499182e-01,\n",
       "                                    3.20461035e-01,  2.45394692e-01,  3.88166010e-02,\n",
       "                                    3.15430552e-01, -2.82726400e-02,  6.13427162e-01,\n",
       "                                    2.15090245e-01],\n",
       "                                  [-3.83411795e-01, -1.09825835e-01, -4.89583731e-01,\n",
       "                                   -3.55342716e-01, -6.85788468e-02, -3.34020585e-01,\n",
       "                                    3.78295779e-01,  2.80663259e-02,  1.44481406e-01,\n",
       "                                   -1.77885443e-01,  4.40790832e-01,  7.74010941e-02,\n",
       "                                   -2.28556171e-01,  4.15705860e-01, -5.38180828e-01,\n",
       "                                   -2.20606640e-01],\n",
       "                                  [-1.16388038e-01,  3.20381820e-01,  4.26004022e-01,\n",
       "                                   -6.17658049e-02, -2.53051281e-01, -2.77298152e-01,\n",
       "                                   -1.34959012e-01,  3.03692259e-02,  3.38164508e-01,\n",
       "                                    5.04651852e-02,  4.61781174e-01,  1.63895369e-01,\n",
       "                                   -1.14268027e-01,  4.92348224e-01,  7.55171031e-02,\n",
       "                                    8.47511962e-02],\n",
       "                                  [-3.35548311e-01,  1.84831783e-01,  4.43642437e-01,\n",
       "                                    3.65658291e-02,  3.12632648e-03,  2.81680748e-02,\n",
       "                                    3.14312190e-01, -1.09189406e-01,  9.34967250e-02,\n",
       "                                   -2.10419595e-01,  1.50859863e-01,  1.39964089e-01,\n",
       "                                    6.57950789e-02, -5.34932390e-02, -1.79921821e-01,\n",
       "                                    1.00384377e-01],\n",
       "                                  [ 2.71278590e-01,  5.78141689e-01,  2.60356098e-01,\n",
       "                                    1.35516986e-01,  4.60986227e-01, -2.63523132e-01,\n",
       "                                    4.61612754e-02, -7.55330198e-04,  1.54466838e-01,\n",
       "                                   -2.72410840e-01,  3.82745534e-01,  1.85531937e-02,\n",
       "                                   -7.21513629e-02, -1.82500824e-01,  3.26886982e-01,\n",
       "                                    5.54357981e-03],\n",
       "                                  [ 4.18292820e-01,  5.19282877e-01, -3.96330142e-03,\n",
       "                                    2.32078075e-01,  5.01228511e-01,  2.26627991e-01,\n",
       "                                   -1.81597382e-01,  2.20287859e-01, -6.17306948e-01,\n",
       "                                   -5.25338724e-02, -2.15539455e-01, -9.91577730e-02,\n",
       "                                    2.96931595e-01, -2.92228431e-01,  3.64924163e-01,\n",
       "                                    2.46652961e-01],\n",
       "                                  [ 3.53480071e-01,  2.64027685e-01,  2.55917817e-01,\n",
       "                                    9.99161154e-02,  7.13994876e-02,  2.23873183e-01,\n",
       "                                    2.55839974e-01, -1.68168526e-02,  6.03156425e-02,\n",
       "                                    9.44599956e-02, -3.95631373e-01,  1.82803586e-01,\n",
       "                                    3.06196064e-01, -4.08363581e-01, -5.99613227e-03,\n",
       "                                   -1.97318181e-01],\n",
       "                                  [ 3.57589461e-02, -1.50295682e-02, -3.77235174e-01,\n",
       "                                    3.00563663e-01,  1.09125875e-01, -2.80947477e-01,\n",
       "                                   -3.44410986e-01,  4.34281051e-01, -3.59211892e-01,\n",
       "                                   -4.02181119e-01,  1.26021490e-01,  6.71211584e-03,\n",
       "                                   -4.74625155e-02,  1.89074755e-01,  7.87603781e-02,\n",
       "                                    3.62967700e-01],\n",
       "                                  [ 8.42865780e-02,  1.03489012e-01, -1.03691239e-02,\n",
       "                                   -3.32638532e-01, -6.44935519e-02, -8.37862715e-02,\n",
       "                                    5.72960265e-02, -2.37581521e-01,  3.05249333e-01,\n",
       "                                    5.09784520e-02,  2.47224048e-01,  8.42313096e-02,\n",
       "                                   -3.34228963e-01, -1.15274884e-01, -3.15861315e-01,\n",
       "                                   -9.48638842e-03],\n",
       "                                  [-4.35519785e-01,  8.63917544e-02,  6.06555007e-02,\n",
       "                                    3.30402821e-01, -4.37491201e-02, -4.32163365e-02,\n",
       "                                    1.68502089e-02, -9.43699107e-02,  3.19968402e-01,\n",
       "                                    3.34019214e-01,  3.19767259e-02,  2.01534629e-01,\n",
       "                                    4.64762539e-01,  1.31158650e-01,  3.60023156e-02,\n",
       "                                   -4.15009022e-01],\n",
       "                                  [-2.07307994e-01, -6.04886055e-01, -1.61704466e-01,\n",
       "                                   -6.54526502e-02, -1.39547229e-01, -2.52407566e-02,\n",
       "                                   -3.08467209e-01, -5.59909046e-01,  1.08470358e-01,\n",
       "                                   -2.99875475e-02,  6.48793876e-01,  1.81000471e-01,\n",
       "                                    1.48632884e-01,  3.91143441e-01, -4.49545413e-01,\n",
       "                                   -2.43060499e-01],\n",
       "                                  [ 7.67882705e-01,  5.40380538e-01, -5.85138917e-01,\n",
       "                                    5.26095688e-01,  2.85113841e-01, -7.53090009e-02,\n",
       "                                   -8.54550824e-02, -2.51526654e-01, -4.49950933e-01,\n",
       "                                   -4.94556099e-01, -7.11387515e-01, -4.01220024e-01,\n",
       "                                    6.27991557e-01, -4.27805930e-01,  8.92943025e-01,\n",
       "                                    4.90887314e-01],\n",
       "                                  [ 1.49768382e-01,  1.36944100e-01,  2.60419071e-01,\n",
       "                                    1.63079947e-01,  2.52840579e-01,  3.71683061e-01,\n",
       "                                   -1.80810213e-01, -5.36939874e-02, -1.51584148e-01,\n",
       "                                    9.18155536e-02, -3.46074849e-01, -4.25861664e-02,\n",
       "                                   -3.14919561e-01,  4.68660891e-02, -1.89906627e-01,\n",
       "                                    1.92932919e-01],\n",
       "                                  [ 5.74385464e-01,  3.32733363e-01,  5.17742038e-02,\n",
       "                                    2.85495102e-01,  3.50384235e-01, -2.47346759e-01,\n",
       "                                   -1.11022659e-01, -1.85954556e-01,  5.25561035e-01,\n",
       "                                    1.27620250e-01,  5.87805137e-02,  9.59692150e-02,\n",
       "                                   -9.97818913e-03, -2.98232608e-03,  2.67468899e-01,\n",
       "                                    1.28056183e-01],\n",
       "                                  [ 1.08319283e-01,  2.31145740e-01,  2.33358055e-01,\n",
       "                                    4.22498047e-01, -1.02743611e-01, -1.61836460e-01,\n",
       "                                    3.56577367e-01,  4.97412115e-01,  2.87941486e-01,\n",
       "                                   -1.27905905e-02, -1.01279467e-01, -1.51165858e-01,\n",
       "                                   -2.92048126e-01,  1.30460396e-01, -1.63358659e-01,\n",
       "                                   -2.99887601e-02]], dtype=float32),\n",
       "              }),\n",
       "  'linear_3': FlatMapping({\n",
       "                'b': DeviceArray([ 0.16736308, -0.16736308], dtype=float32),\n",
       "                'w': DeviceArray([[-0.38314962,  0.38314968],\n",
       "                                  [-0.32685202,  0.32685193],\n",
       "                                  [ 0.10033883, -0.10033883],\n",
       "                                  [-0.12012196,  0.12012201],\n",
       "                                  [-0.1944468 ,  0.19444676],\n",
       "                                  [ 0.        ,  0.        ],\n",
       "                                  [-0.00644269,  0.00644269],\n",
       "                                  [-0.03247958,  0.03247958],\n",
       "                                  [ 0.2317598 , -0.23175982],\n",
       "                                  [ 0.10578626, -0.10578625],\n",
       "                                  [ 0.34036428, -0.34036428],\n",
       "                                  [ 0.09732985, -0.0973298 ],\n",
       "                                  [-0.19501108,  0.19501106],\n",
       "                                  [ 0.35873777, -0.35873777],\n",
       "                                  [-0.38867268,  0.3886727 ],\n",
       "                                  [-0.11444149,  0.11444146]], dtype=float32),\n",
       "              }),\n",
       "})"
      ]
     },
     "execution_count": 16,
     "metadata": {},
     "output_type": "execute_result"
    }
   ],
   "source": [
    "pi.params['lin']"
   ]
  },
  {
   "cell_type": "code",
   "execution_count": 11,
   "metadata": {},
   "outputs": [],
   "source": [
    "loaded_pi = coax.utils.load(\"./mlp_pi.lz4\")"
   ]
  },
  {
   "cell_type": "code",
   "execution_count": 13,
   "metadata": {},
   "outputs": [
    {
     "data": {
      "text/plain": [
       "FlatMapping({\n",
       "  'linear': FlatMapping({\n",
       "              'b': array([-0.00078749,  0.22243674,  0.24990653,  0.25380114,  0.01685529,\n",
       "                           0.02420999,  0.35115007,  0.05400022,  0.21136887,  0.29219517,\n",
       "                           0.18837172,  0.22474289,  0.00078776,  0.11020071,  0.35213456,\n",
       "                           0.19622795], dtype=float32),\n",
       "              'w': array([[-0.03512973,  0.05438015, -0.36982128,  0.09777525, -0.20791632,\n",
       "                            0.21831983,  0.05427854,  0.16727945,  0.2172411 ,  0.3122285 ,\n",
       "                           -0.5020807 ,  0.42083606,  0.40071788, -0.6656895 , -0.8764311 ,\n",
       "                           -0.28065702],\n",
       "                          [-0.27200034, -0.08180515,  0.194785  ,  0.78121173, -0.86986077,\n",
       "                           -0.45019484,  0.62767553, -0.7282137 , -0.26940435, -0.37256098,\n",
       "                           -0.19365811, -0.56482714,  1.0171323 , -0.08690273,  0.15433046,\n",
       "                            0.18701562],\n",
       "                          [-0.89545184,  1.047479  , -0.30712223, -1.0112432 ,  0.87866664,\n",
       "                            0.13928841, -0.08219857,  0.3294781 , -0.7411986 , -0.80468243,\n",
       "                           -0.04578631, -0.3618525 , -0.01613511, -0.39490125, -0.8581307 ,\n",
       "                           -0.8450079 ],\n",
       "                          [-0.42395437,  0.36034626, -1.11832   , -0.85583186,  0.35714576,\n",
       "                            0.14597851,  0.7812778 ,  0.17383954, -0.42900696, -0.61298406,\n",
       "                            0.7433855 , -0.54491895, -0.48825067,  0.4896192 , -1.275772  ,\n",
       "                           -0.95431185]], dtype=float32),\n",
       "            }),\n",
       "  'linear_1': FlatMapping({\n",
       "                'b': array([-0.05304641,  0.27527857,  0.09865921,  0.15581949, -0.09085984,\n",
       "                             0.21192172,  0.21861884,  0.09459148,  0.0729344 ,  0.        ,\n",
       "                            -0.0285222 ,  0.229616  ,  0.23170686, -0.05938   ,  0.21036616,\n",
       "                            -0.02048233], dtype=float32),\n",
       "                'w': array([[-0.06556073, -0.18813741,  0.16493294,  0.07327092, -0.04106306,\n",
       "                              0.24733017, -0.6670855 ,  0.4327468 ,  0.24415785, -0.09044596,\n",
       "                             -0.11511075,  0.10421174, -0.09712969, -0.10748747, -0.41200718,\n",
       "                             -0.09070774],\n",
       "                            [-0.24167672,  0.41659608, -0.10626302, -0.4172539 , -0.2814826 ,\n",
       "                              0.6081469 ,  0.27943406, -0.13704929, -0.19213793, -0.05634058,\n",
       "                             -0.13394895, -0.09906153,  0.28506833,  0.18777293,  0.668604  ,\n",
       "                             -0.22812718],\n",
       "                            [-0.08836193,  0.00457488,  0.39570653,  0.4267281 , -0.08720051,\n",
       "                              0.17994997, -0.32249436, -0.2699646 ,  0.357707  , -0.3698201 ,\n",
       "                             -0.36970305,  0.5623638 , -0.26390058,  0.25563645, -0.12370877,\n",
       "                              0.0505844 ],\n",
       "                            [ 0.0876291 , -0.06333251,  0.35861754,  0.15562335, -0.10425661,\n",
       "                              0.10957491, -0.562173  ,  0.1432255 , -0.00099452, -0.15246747,\n",
       "                             -0.41022122,  0.09702627,  0.31993592,  0.00772829, -0.09580426,\n",
       "                             -0.1472855 ],\n",
       "                            [ 0.03002041,  0.28108057, -0.11804054,  0.15819693,  0.01167541,\n",
       "                             -0.19589272,  0.11229429,  0.00948919,  0.17716305, -0.34945264,\n",
       "                             -0.1918272 ,  0.03787529, -0.03670862, -0.05257154,  0.22213453,\n",
       "                              0.13769796],\n",
       "                            [-0.2583881 , -0.46001527, -0.00658782, -0.07509299,  0.28260595,\n",
       "                             -0.03729963, -0.07552717,  0.05660027,  0.16284177,  0.13252363,\n",
       "                              0.04840069,  0.3385232 ,  0.2016304 ,  0.04062438, -0.23989803,\n",
       "                              0.05891401],\n",
       "                            [-0.2907541 ,  0.18026815, -0.3711628 ,  0.20449047,  0.25936028,\n",
       "                              0.29647088,  0.04284133,  0.28818628,  0.02362922, -0.2337324 ,\n",
       "                              0.07929869, -0.5425025 ,  0.86377054, -0.32124457,  0.677408  ,\n",
       "                             -0.14256087],\n",
       "                            [ 0.14421812,  0.02762853,  0.23390955,  0.5532331 ,  0.1084758 ,\n",
       "                             -0.07661574,  0.1915506 ,  0.14036314,  0.12819427, -0.13645853,\n",
       "                             -0.23972923,  0.0013723 , -0.03610273, -0.21384902,  0.25914785,\n",
       "                             -0.04331645],\n",
       "                            [-0.18577889, -0.337537  ,  0.47310516,  0.17888407, -0.36919746,\n",
       "                              0.28908557, -0.62116545, -0.13771845, -0.03983434,  0.3101414 ,\n",
       "                             -0.14253765,  0.7012235 ,  0.01966072, -0.19142161, -0.5222126 ,\n",
       "                              0.03993191],\n",
       "                            [ 0.28076687, -0.08011629,  0.28153253,  0.7368762 ,  0.01585939,\n",
       "                              0.1543296 , -0.32273957, -0.40419716, -0.20992139,  0.09605402,\n",
       "                             -0.02316908,  0.6542645 , -0.47304508,  0.24481194, -0.151323  ,\n",
       "                              0.23668891],\n",
       "                            [-0.28431273,  0.3642643 ,  0.0844506 ,  0.08505029, -0.11112823,\n",
       "                              0.07761674,  0.28722262,  0.36142787,  0.07409167, -0.27802184,\n",
       "                             -0.21760412, -0.04067259,  0.3733805 ,  0.4137612 ,  0.39018   ,\n",
       "                             -0.47891235],\n",
       "                            [ 0.03854637, -0.3612212 ,  0.11703106,  0.66936487,  0.31063095,\n",
       "                             -0.37449524, -0.28736606,  0.08672889,  0.14325647, -0.17826597,\n",
       "                             -0.23263474,  0.35380113, -0.24538293, -0.2482271 , -0.08374614,\n",
       "                             -0.2424834 ],\n",
       "                            [-0.00692053,  0.47909972, -0.33827332, -0.30110478, -0.20222148,\n",
       "                              0.15301266, -0.17355242,  0.20984231,  0.38436642, -0.03774929,\n",
       "                             -0.06524346, -0.343419  ,  0.3262213 , -0.11114312,  0.11204334,\n",
       "                             -0.21338446],\n",
       "                            [ 0.0578081 ,  0.48122862, -0.21655524, -0.03348418,  0.16572812,\n",
       "                              0.41595283,  0.5727841 , -0.07287166,  0.25695118,  0.0268322 ,\n",
       "                             -0.19523513, -0.21308714,  0.08131785, -0.2720457 ,  0.5368966 ,\n",
       "                             -0.39033163],\n",
       "                            [-0.17076062, -0.56009495,  0.7448345 ,  0.317515  , -0.1158433 ,\n",
       "                             -0.13211018, -0.14575571, -0.05003252,  0.34713438, -0.09246522,\n",
       "                             -0.05275882,  0.6376054 , -0.40636703, -0.27614844, -0.3780379 ,\n",
       "                             -0.16462003],\n",
       "                            [-0.27130184, -0.30048186,  0.577608  ,  0.42380095,  0.15437582,\n",
       "                             -0.04225172, -0.03754997, -0.05236297, -0.17986238, -0.16705368,\n",
       "                             -0.05682925,  0.50631136, -0.49298432, -0.00974507, -0.32314223,\n",
       "                             -0.09802449]], dtype=float32),\n",
       "              }),\n",
       "  'linear_2': FlatMapping({\n",
       "                'b': array([ 0.23982458,  0.15185204, -0.01973422,  0.09664522,  0.05447241,\n",
       "                             0.        ,  0.        ,  0.00697144,  0.09289808,  0.05175449,\n",
       "                             0.19028524,  0.00038132,  0.11215447,  0.20376386,  0.29298878,\n",
       "                             0.12153289], dtype=float32),\n",
       "                'w': array([[ 1.47648558e-01, -1.83218554e-01,  1.06988922e-01,\n",
       "                              1.23987623e-01,  1.47735268e-01, -4.82628137e-01,\n",
       "                             -3.72355759e-01, -3.73812258e-01, -1.35193989e-01,\n",
       "                             -8.79680738e-02, -9.56788063e-02,  2.35924631e-01,\n",
       "                              7.91199505e-02, -1.80178687e-01,  2.47130230e-01,\n",
       "                              3.29320997e-01],\n",
       "                            [ 2.55751133e-01,  2.60756344e-01, -1.37993649e-01,\n",
       "                              7.08633736e-02,  6.11531734e-01,  2.19395503e-01,\n",
       "                             -3.48625004e-01,  5.25724173e-01, -1.73499182e-01,\n",
       "                              3.20461035e-01,  2.45394692e-01,  3.88166010e-02,\n",
       "                              3.15430552e-01, -2.82726400e-02,  6.13427162e-01,\n",
       "                              2.15090245e-01],\n",
       "                            [-3.83411795e-01, -1.09825835e-01, -4.89583731e-01,\n",
       "                             -3.55342716e-01, -6.85788468e-02, -3.34020585e-01,\n",
       "                              3.78295779e-01,  2.80663259e-02,  1.44481406e-01,\n",
       "                             -1.77885443e-01,  4.40790832e-01,  7.74010941e-02,\n",
       "                             -2.28556171e-01,  4.15705860e-01, -5.38180828e-01,\n",
       "                             -2.20606640e-01],\n",
       "                            [-1.16388038e-01,  3.20381820e-01,  4.26004022e-01,\n",
       "                             -6.17658049e-02, -2.53051281e-01, -2.77298152e-01,\n",
       "                             -1.34959012e-01,  3.03692259e-02,  3.38164508e-01,\n",
       "                              5.04651852e-02,  4.61781174e-01,  1.63895369e-01,\n",
       "                             -1.14268027e-01,  4.92348224e-01,  7.55171031e-02,\n",
       "                              8.47511962e-02],\n",
       "                            [-3.35548311e-01,  1.84831783e-01,  4.43642437e-01,\n",
       "                              3.65658291e-02,  3.12632648e-03,  2.81680748e-02,\n",
       "                              3.14312190e-01, -1.09189406e-01,  9.34967250e-02,\n",
       "                             -2.10419595e-01,  1.50859863e-01,  1.39964089e-01,\n",
       "                              6.57950789e-02, -5.34932390e-02, -1.79921821e-01,\n",
       "                              1.00384377e-01],\n",
       "                            [ 2.71278590e-01,  5.78141689e-01,  2.60356098e-01,\n",
       "                              1.35516986e-01,  4.60986227e-01, -2.63523132e-01,\n",
       "                              4.61612754e-02, -7.55330198e-04,  1.54466838e-01,\n",
       "                             -2.72410840e-01,  3.82745534e-01,  1.85531937e-02,\n",
       "                             -7.21513629e-02, -1.82500824e-01,  3.26886982e-01,\n",
       "                              5.54357981e-03],\n",
       "                            [ 4.18292820e-01,  5.19282877e-01, -3.96330142e-03,\n",
       "                              2.32078075e-01,  5.01228511e-01,  2.26627991e-01,\n",
       "                             -1.81597382e-01,  2.20287859e-01, -6.17306948e-01,\n",
       "                             -5.25338724e-02, -2.15539455e-01, -9.91577730e-02,\n",
       "                              2.96931595e-01, -2.92228431e-01,  3.64924163e-01,\n",
       "                              2.46652961e-01],\n",
       "                            [ 3.53480071e-01,  2.64027685e-01,  2.55917817e-01,\n",
       "                              9.99161154e-02,  7.13994876e-02,  2.23873183e-01,\n",
       "                              2.55839974e-01, -1.68168526e-02,  6.03156425e-02,\n",
       "                              9.44599956e-02, -3.95631373e-01,  1.82803586e-01,\n",
       "                              3.06196064e-01, -4.08363581e-01, -5.99613227e-03,\n",
       "                             -1.97318181e-01],\n",
       "                            [ 3.57589461e-02, -1.50295682e-02, -3.77235174e-01,\n",
       "                              3.00563663e-01,  1.09125875e-01, -2.80947477e-01,\n",
       "                             -3.44410986e-01,  4.34281051e-01, -3.59211892e-01,\n",
       "                             -4.02181119e-01,  1.26021490e-01,  6.71211584e-03,\n",
       "                             -4.74625155e-02,  1.89074755e-01,  7.87603781e-02,\n",
       "                              3.62967700e-01],\n",
       "                            [ 8.42865780e-02,  1.03489012e-01, -1.03691239e-02,\n",
       "                             -3.32638532e-01, -6.44935519e-02, -8.37862715e-02,\n",
       "                              5.72960265e-02, -2.37581521e-01,  3.05249333e-01,\n",
       "                              5.09784520e-02,  2.47224048e-01,  8.42313096e-02,\n",
       "                             -3.34228963e-01, -1.15274884e-01, -3.15861315e-01,\n",
       "                             -9.48638842e-03],\n",
       "                            [-4.35519785e-01,  8.63917544e-02,  6.06555007e-02,\n",
       "                              3.30402821e-01, -4.37491201e-02, -4.32163365e-02,\n",
       "                              1.68502089e-02, -9.43699107e-02,  3.19968402e-01,\n",
       "                              3.34019214e-01,  3.19767259e-02,  2.01534629e-01,\n",
       "                              4.64762539e-01,  1.31158650e-01,  3.60023156e-02,\n",
       "                             -4.15009022e-01],\n",
       "                            [-2.07307994e-01, -6.04886055e-01, -1.61704466e-01,\n",
       "                             -6.54526502e-02, -1.39547229e-01, -2.52407566e-02,\n",
       "                             -3.08467209e-01, -5.59909046e-01,  1.08470358e-01,\n",
       "                             -2.99875475e-02,  6.48793876e-01,  1.81000471e-01,\n",
       "                              1.48632884e-01,  3.91143441e-01, -4.49545413e-01,\n",
       "                             -2.43060499e-01],\n",
       "                            [ 7.67882705e-01,  5.40380538e-01, -5.85138917e-01,\n",
       "                              5.26095688e-01,  2.85113841e-01, -7.53090009e-02,\n",
       "                             -8.54550824e-02, -2.51526654e-01, -4.49950933e-01,\n",
       "                             -4.94556099e-01, -7.11387515e-01, -4.01220024e-01,\n",
       "                              6.27991557e-01, -4.27805930e-01,  8.92943025e-01,\n",
       "                              4.90887314e-01],\n",
       "                            [ 1.49768382e-01,  1.36944100e-01,  2.60419071e-01,\n",
       "                              1.63079947e-01,  2.52840579e-01,  3.71683061e-01,\n",
       "                             -1.80810213e-01, -5.36939874e-02, -1.51584148e-01,\n",
       "                              9.18155536e-02, -3.46074849e-01, -4.25861664e-02,\n",
       "                             -3.14919561e-01,  4.68660891e-02, -1.89906627e-01,\n",
       "                              1.92932919e-01],\n",
       "                            [ 5.74385464e-01,  3.32733363e-01,  5.17742038e-02,\n",
       "                              2.85495102e-01,  3.50384235e-01, -2.47346759e-01,\n",
       "                             -1.11022659e-01, -1.85954556e-01,  5.25561035e-01,\n",
       "                              1.27620250e-01,  5.87805137e-02,  9.59692150e-02,\n",
       "                             -9.97818913e-03, -2.98232608e-03,  2.67468899e-01,\n",
       "                              1.28056183e-01],\n",
       "                            [ 1.08319283e-01,  2.31145740e-01,  2.33358055e-01,\n",
       "                              4.22498047e-01, -1.02743611e-01, -1.61836460e-01,\n",
       "                              3.56577367e-01,  4.97412115e-01,  2.87941486e-01,\n",
       "                             -1.27905905e-02, -1.01279467e-01, -1.51165858e-01,\n",
       "                             -2.92048126e-01,  1.30460396e-01, -1.63358659e-01,\n",
       "                             -2.99887601e-02]], dtype=float32),\n",
       "              }),\n",
       "  'linear_3': FlatMapping({\n",
       "                'b': array([ 0.16736308, -0.16736308], dtype=float32),\n",
       "                'w': array([[-0.38314962,  0.38314968],\n",
       "                            [-0.32685202,  0.32685193],\n",
       "                            [ 0.10033883, -0.10033883],\n",
       "                            [-0.12012196,  0.12012201],\n",
       "                            [-0.1944468 ,  0.19444676],\n",
       "                            [ 0.        ,  0.        ],\n",
       "                            [-0.00644269,  0.00644269],\n",
       "                            [-0.03247958,  0.03247958],\n",
       "                            [ 0.2317598 , -0.23175982],\n",
       "                            [ 0.10578626, -0.10578625],\n",
       "                            [ 0.34036428, -0.34036428],\n",
       "                            [ 0.09732985, -0.0973298 ],\n",
       "                            [-0.19501108,  0.19501106],\n",
       "                            [ 0.35873777, -0.35873777],\n",
       "                            [-0.38867268,  0.3886727 ],\n",
       "                            [-0.11444149,  0.11444146]], dtype=float32),\n",
       "              }),\n",
       "})"
      ]
     },
     "execution_count": 13,
     "metadata": {},
     "output_type": "execute_result"
    }
   ],
   "source": [
    "loaded_pi.params"
   ]
  },
  {
   "cell_type": "code",
   "execution_count": null,
   "metadata": {},
   "outputs": [],
   "source": []
  }
 ],
 "metadata": {
  "kernelspec": {
   "display_name": "Python 3",
   "language": "python",
   "name": "python3"
  },
  "language_info": {
   "codemirror_mode": {
    "name": "ipython",
    "version": 3
   },
   "file_extension": ".py",
   "mimetype": "text/x-python",
   "name": "python",
   "nbconvert_exporter": "python",
   "pygments_lexer": "ipython3",
   "version": "3.8.8"
  }
 },
 "nbformat": 4,
 "nbformat_minor": 4
}
